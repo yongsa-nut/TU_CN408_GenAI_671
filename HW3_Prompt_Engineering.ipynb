{
  "nbformat": 4,
  "nbformat_minor": 0,
  "metadata": {
    "colab": {
      "provenance": [],
      "authorship_tag": "ABX9TyObvuwSXM8hL3uAf5nCCDq6",
      "include_colab_link": true
    },
    "kernelspec": {
      "name": "python3",
      "display_name": "Python 3"
    },
    "language_info": {
      "name": "python"
    }
  },
  "cells": [
    {
      "cell_type": "markdown",
      "metadata": {
        "id": "view-in-github",
        "colab_type": "text"
      },
      "source": [
        "<a href=\"https://colab.research.google.com/github/yongsa-nut/TU_CN408_GenAI_671/blob/main/HW3_Prompt_Engineering.ipynb\" target=\"_parent\"><img src=\"https://colab.research.google.com/assets/colab-badge.svg\" alt=\"Open In Colab\"/></a>"
      ]
    },
    {
      "cell_type": "markdown",
      "source": [
        "# Prompt Engineering (10 Points)"
      ],
      "metadata": {
        "id": "8_2RDbdbrUbR"
      }
    },
    {
      "cell_type": "markdown",
      "source": [
        "## Setting up"
      ],
      "metadata": {
        "id": "qtERQLIltxnP"
      }
    },
    {
      "cell_type": "code",
      "source": [
        "#setting up\n",
        "# Uncomment below if you are doing API key\n",
        "# !pip install anthropic\n",
        "# !pip install python-dotenv\n",
        "!pip install -U google-cloud-aiplatform \"anthropic[vertex]\" # Don't forget to restart session"
      ],
      "metadata": {
        "id": "votMee6arn9u"
      },
      "execution_count": null,
      "outputs": []
    },
    {
      "cell_type": "markdown",
      "source": [
        "## **Skip this part if you are not using Anthopic's API**\n",
        "\n",
        "\n",
        "## Safely storing your API key\n",
        "\n",
        "For best practice to keep sensitive information, like API keys, separate from your codebase. One common approach is to store the API key in a `.env` file and load it using the `python-dotenv` package. Here's how you can set it up:\n",
        "\n",
        "Create a new file called `.env`.\n",
        "\n",
        "Add your API key to the newly created .env file using the following format:\n",
        "\n",
        "`ANTHROPIC_API_KEY=put-your-api-key-here`\n",
        "\n",
        "Make sure to save the `.env` file\n",
        "\n",
        "Finally upload `.env.` file to your google colab. It should look like this.\n",
        "\n",
        "![key_trial.png](https://drive.google.com/uc?export=view&id=1qZywP0bsjyaVAuAOu9EE-RvjwSL0VUOY)"
      ],
      "metadata": {
        "id": "Ur-OEtnksrmQ"
      }
    },
    {
      "cell_type": "code",
      "source": [
        "from dotenv import load_dotenv\n",
        "import os\n",
        "from google.colab import data_table\n",
        "import pandas as pd\n",
        "import re\n",
        "import time\n",
        "\n",
        "data_table.enable_dataframe_formatter() # Allow you to view dataset on colab nicely"
      ],
      "metadata": {
        "id": "w6qHMLaKr-GW"
      },
      "execution_count": null,
      "outputs": []
    },
    {
      "cell_type": "code",
      "source": [
        "# Load your API key\n",
        "load_dotenv()\n",
        "my_api_key = os.getenv(\"ANTHROPIC_API_KEY\")"
      ],
      "metadata": {
        "id": "LkDN5Rlcjw1X"
      },
      "execution_count": null,
      "outputs": []
    },
    {
      "cell_type": "code",
      "source": [
        "from anthropic import Anthropic\n",
        "\n",
        "client = Anthropic(\n",
        "    api_key=my_api_key\n",
        ")\n",
        "\n",
        "# Helper function to get response from Claude. DO NOT CHANGE.\n",
        "# You will be using Claude 3 Haiku for this homework\n",
        "# Temperature is set to 0 so that the answer will be the same.\n",
        "def get_response(user_prompt, system_prompt=\"\", prefill=\"\",temperature=0):\n",
        "  response = client.messages.create(\n",
        "    model=\"claude-3-haiku-20240307\",\n",
        "    max_tokens=1500,\n",
        "    temperature=temperature,\n",
        "    system= system_prompt,\n",
        "    messages=[\n",
        "        {\"role\": \"user\", \"content\": user_prompt},\n",
        "        {\"role\": \"assistant\", \"content\": prefill} #Only need this if we plan to do prefill\n",
        "    ]\n",
        "  )\n",
        "  return response.content[0].text\n",
        "\n",
        "# Testing if your api key is working\n",
        "print(get_response(\"Hello\"))"
      ],
      "metadata": {
        "colab": {
          "base_uri": "https://localhost:8080/"
        },
        "id": "gGFRRRS0r6Uq",
        "outputId": "bbd7e865-2982-4bf8-d502-5fa2e9a55b26"
      },
      "execution_count": null,
      "outputs": [
        {
          "output_type": "stream",
          "name": "stdout",
          "text": [
            "Hello! How can I assist you today?\n"
          ]
        }
      ]
    },
    {
      "cell_type": "markdown",
      "source": [
        "## Google Vertex Setup"
      ],
      "metadata": {
        "id": "BtoT23mVNa3M"
      }
    },
    {
      "cell_type": "code",
      "source": [
        "!gcloud auth application-default login"
      ],
      "metadata": {
        "id": "6D3tmsHBNfmZ"
      },
      "execution_count": null,
      "outputs": []
    },
    {
      "cell_type": "code",
      "source": [
        "!gcloud auth application-default set-quota-project xxxxxxxxx # replace the last one with your project ID"
      ],
      "metadata": {
        "id": "A0E22_-nNhkA"
      },
      "execution_count": null,
      "outputs": []
    },
    {
      "cell_type": "code",
      "source": [
        "from anthropic import AnthropicVertex\n",
        "\n",
        "project_id = \"xxxxxxxxx\" # replace this with your project ID\n",
        "region = \"us-east5\"  # Two region for Haiku [\"us-east5\", \"europe-west1\"]\n",
        "\n",
        "client = AnthropicVertex(project_id=project_id, region=region)\n",
        "\n",
        "# Helper function to get response from Claude. DO NOT CHANGE.\n",
        "# You will be using Claude 3 Haiku for this homework\n",
        "# Temperature is set to 0 so that the answer will be the same.\n",
        "def get_response(user_prompt, system_prompt=\"\", prefill=\"\",temperature=0):\n",
        "  response = client.messages.create(\n",
        "    model=\"claude-3-haiku@20240307\",\n",
        "    max_tokens=1500,\n",
        "    temperature=temperature,\n",
        "    system= system_prompt,\n",
        "    messages=[\n",
        "        {\"role\": \"user\", \"content\": user_prompt},\n",
        "        {\"role\": \"assistant\", \"content\": prefill} #Only need this if we plan to do prefill\n",
        "    ]\n",
        "  )\n",
        "  return response.content[0].text\n",
        "\n",
        "# Testing if your api key is working\n",
        "print(get_response(\"Hello\"))"
      ],
      "metadata": {
        "colab": {
          "base_uri": "https://localhost:8080/"
        },
        "id": "8e7-eB-TNjzS",
        "outputId": "ba25c384-6c39-4972-fbba-c706181fd0d1"
      },
      "execution_count": 3,
      "outputs": [
        {
          "output_type": "stream",
          "name": "stdout",
          "text": [
            "Hello! How can I assist you today?\n"
          ]
        }
      ]
    },
    {
      "cell_type": "markdown",
      "source": [
        "# Part 1: Prompting Techniques (8 points)\n",
        "\n",
        "- Questions are from [Claude Exercises](https://docs.google.com/spreadsheets/d/19jzLgRruG9kjUQNKtCg1ZjdD6l6weA6qRXG5zLIAhC8/edit?usp=sharing)\n",
        "- 0.5 point per question"
      ],
      "metadata": {
        "id": "vLhnNHaHGJCW"
      }
    },
    {
      "cell_type": "markdown",
      "source": [
        "### **Q1**. Basic Prompt Structure\n",
        "\n",
        "**Q1.1** Get Claude to count to three"
      ],
      "metadata": {
        "id": "RZC0pFifreNb"
      }
    },
    {
      "cell_type": "code",
      "execution_count": null,
      "metadata": {
        "id": "UXejM879rRKy"
      },
      "outputs": [],
      "source": [
        "prompt = \"\" #Fill in your prompt here\n",
        "print(get_response(prompt))"
      ]
    },
    {
      "cell_type": "markdown",
      "source": [
        "**Q1.2** Modify the system prompt to make **Claude respond like it's a 3 year old child**."
      ],
      "metadata": {
        "id": "LKGmqYFYvZCf"
      }
    },
    {
      "cell_type": "code",
      "source": [
        "system_prompt = \"\" #Fill in your prompt here\n",
        "prompt = \"How big is the sky?\"\n",
        "print(get_response(prompt, system_prompt))"
      ],
      "metadata": {
        "colab": {
          "base_uri": "https://localhost:8080/"
        },
        "id": "tK7GMvKMvYxT",
        "outputId": "1d80269f-3a5c-421c-83a7-fb6c45706017"
      },
      "execution_count": null,
      "outputs": [
        {
          "output_type": "stream",
          "name": "stdout",
          "text": [
            "The sky does not have a definitive size, as it refers to the expanse of space above the Earth's surface. Here are some key points about the size of the sky:\n",
            "\n",
            "- The sky extends infinitely in all directions. It has no physical boundaries or edges.\n",
            "\n",
            "- The visible sky that we can see from Earth's surface is limited by the horizon. This visible portion of the sky is often referred to as the celestial sphere.\n",
            "\n",
            "- The celestial sphere appears to have a radius of about 4,000-6,000 miles (6,400-9,600 km) from the perspective of an observer on Earth. This is the distance to the horizon.\n",
            "\n",
            "- However, the actual size of the universe, which the sky represents, is essentially infinite. Astronomers estimate the observable universe has a diameter of about 93 billion light-years.\n",
            "\n",
            "- The sky contains the Earth's atmosphere, which extends about 6,200 miles (10,000 km) above the surface. Beyond that is the vacuum of space.\n",
            "\n",
            "So in summary, while the visible sky has a finite size from an earthly perspective, the overall sky or universe is considered to be infinite in scale. Its true size is essentially immeasurable.\n"
          ]
        }
      ]
    },
    {
      "cell_type": "markdown",
      "source": [
        "### **Q2**. Being Clear and Direct"
      ],
      "metadata": {
        "id": "cer2JFHwvrss"
      }
    },
    {
      "cell_type": "markdown",
      "source": [
        "**Q2.1** Adapt the system prompt to make Claude output its answer in Thai.\n"
      ],
      "metadata": {
        "id": "Svrvn_KvwDBG"
      }
    },
    {
      "cell_type": "code",
      "source": [
        "system_prompt = \"\" #Fill in your prompt here\n",
        "prompt = \"Hello Claude, how are you?\"\n",
        "print(get_response(prompt, system_prompt))"
      ],
      "metadata": {
        "colab": {
          "base_uri": "https://localhost:8080/"
        },
        "id": "N9sp5x28wIp1",
        "outputId": "6854dde7-4bba-40f5-9cdf-5dc3b39a9124"
      },
      "execution_count": null,
      "outputs": [
        {
          "output_type": "stream",
          "name": "stdout",
          "text": [
            "Hello! As an AI language model, I don't have feelings or a physical form, but I'm functioning properly and ready to assist you with any questions or tasks you may have. How can I help you today?\n"
          ]
        }
      ]
    },
    {
      "cell_type": "markdown",
      "source": [
        "**Q2.2** Modify the basketball player prompt so that Claude doesn't equivocate at all and responds with **ONLY the name of one specific player**, with no other words or punctuation.\n"
      ],
      "metadata": {
        "id": "hR1W2RtewRzr"
      }
    },
    {
      "cell_type": "code",
      "source": [
        "prompt = \"Who is the best basketball player of all time?\"\n",
        "print(get_response(prompt))"
      ],
      "metadata": {
        "colab": {
          "base_uri": "https://localhost:8080/"
        },
        "id": "co3ty733weDa",
        "outputId": "782b825c-195f-441a-9419-8ee1d3b8e6fe"
      },
      "execution_count": null,
      "outputs": [
        {
          "output_type": "stream",
          "name": "stdout",
          "text": [
            "There is no universally agreed upon \"best basketball player of all time.\" It's a highly debated topic, as there have been many all-time great players throughout the history of the sport. Some of the players often considered among the greatest of all time include:\n",
            "\n",
            "- Michael Jordan - Widely regarded as one of the greatest, if not the greatest, player ever. He won 6 NBA championships with the Chicago Bulls.\n",
            "\n",
            "- LeBron James - One of the most dominant and well-rounded players of the modern era. He has won 4 NBA titles with 3 different teams.\n",
            "\n",
            "- Kareem Abdul-Jabbar - Legendary center who won 6 NBA championships and holds the record for most career points scored.\n",
            "\n",
            "- Wilt Chamberlain - Dominant big man who holds numerous NBA records including most points in a game (100).\n",
            "\n",
            "- Magic Johnson - Pioneering point guard who led the \"Showtime\" Lakers to 5 NBA titles.\n",
            "\n",
            "- Bill Russell - Defensive anchor and 11-time NBA champion with the Boston Celtics.\n",
            "\n",
            "There are good arguments for several players as the \"GOAT\" (greatest of all time), but it ultimately comes down to personal opinion and how one weighs different accomplishments and skills. The debate continues among basketball fans and experts.\n"
          ]
        }
      ]
    },
    {
      "cell_type": "markdown",
      "source": [
        "**Q2.3** Modify the prompt so that Claude responds with as long a response as you can muster. Claude's response should be over 800 words.\n"
      ],
      "metadata": {
        "id": "T1YWhAU7wsEE"
      }
    },
    {
      "cell_type": "code",
      "source": [
        "prompt = \"Can you write me a story?\"\n",
        "response = get_response(prompt)\n",
        "print(f\"Number of words = {len(response.split())}\")\n",
        "print(response)"
      ],
      "metadata": {
        "id": "NWds_MrXw5xH"
      },
      "execution_count": null,
      "outputs": []
    },
    {
      "cell_type": "markdown",
      "source": [
        "### **Q3** Role Prompting"
      ],
      "metadata": {
        "id": "WIwSzlVrxM1G"
      }
    },
    {
      "cell_type": "markdown",
      "source": [
        "**Q3.1** In some instances, Claude may struggle with mathematics, even simple mathematics. Below, Claude incorrectly assesses the math problem as correctly solved, even though there's an obvious arithmetic mistake in the second step. Note that Claude actually catches the mistake when going through step-by-step, but doesn't jump to the conclusion that the overall solution is wrong.\n",
        "\n",
        "Adapt the text in system prompt box to make Claude grade the solution as **incorrectly solved**, rather than **correctly solved**."
      ],
      "metadata": {
        "id": "A1WAhejMxTp5"
      }
    },
    {
      "cell_type": "code",
      "source": [
        "system_prompt = \"\" #Fill in your prompt here\n",
        "prompt = \"\"\"Is this equation solved correctly below?\n",
        "2x - 3 = 9\n",
        "2x = 6\n",
        "x = 3\"\"\"\n",
        "print(get_response(prompt, system_prompt))"
      ],
      "metadata": {
        "colab": {
          "base_uri": "https://localhost:8080/"
        },
        "id": "z15AN_stxSlc",
        "outputId": "32fd8c4e-62ae-4702-ddb9-68af9f6cd23f"
      },
      "execution_count": null,
      "outputs": [
        {
          "output_type": "stream",
          "name": "stdout",
          "text": [
            "Yes, the equation is solved correctly.\n",
            "\n",
            "Let's go through the steps:\n",
            "\n",
            "Given equation:\n",
            "2x - 3 = 9\n",
            "\n",
            "Step 1: Isolate the variable term by adding 3 to both sides.\n",
            "2x - 3 + 3 = 9 + 3\n",
            "2x = 12\n",
            "\n",
            "Step 2: Divide both sides by 2 to find the value of x.\n",
            "2x / 2 = 12 / 2\n",
            "x = 6\n",
            "\n",
            "Therefore, the solution to the equation 2x - 3 = 9 is x = 3.\n"
          ]
        }
      ]
    },
    {
      "cell_type": "markdown",
      "source": [
        "### **Q4**. Separating Data from Instructions"
      ],
      "metadata": {
        "id": "WY7ACE3IycVw"
      }
    },
    {
      "cell_type": "markdown",
      "source": [
        "**Q4.1** Write a prompt that will take in a variable called \"{{TOPIC}}\" and output a haiku about the topic. This exercise is just meant to test your understanding of the variable templating structure."
      ],
      "metadata": {
        "id": "nPaez5Rcy6BY"
      }
    },
    {
      "cell_type": "code",
      "source": [
        "TOPIC = \"pig\"\n",
        "prompt = f\"\"  # use f-string to create a prompt with variables\n",
        "print(get_response(prompt))"
      ],
      "metadata": {
        "id": "QrSdaXTzzBVg"
      },
      "execution_count": null,
      "outputs": []
    },
    {
      "cell_type": "markdown",
      "source": [
        "**Q4.2** Fix the prompt below by adding XML tags so that Claude produces the right answer.\n",
        "\n",
        "Try not to change anything else about the prompt. The messy and mistake-ridden writing is intentional, so you can see how Claude reacts to such mistakes."
      ],
      "metadata": {
        "id": "_NosBeB7zAe8"
      }
    },
    {
      "cell_type": "code",
      "source": [
        "QUESTION = \"ar cn brown?\"\n",
        "prompt = f\"Hia its me i have a q about dogs jkaerjv {QUESTION} jklmvca tx it help me muhch much atx fst fst answer short short tx\"\n",
        "print(get_response(prompt))"
      ],
      "metadata": {
        "colab": {
          "base_uri": "https://localhost:8080/"
        },
        "id": "EgcBpFSpz8-C",
        "outputId": "4d5b7487-c1ea-4a15-ce07-13992c7f2591"
      },
      "execution_count": null,
      "outputs": [
        {
          "output_type": "stream",
          "name": "stdout",
          "text": [
            "I'm afraid I don't fully understand your question. Could you please rephrase it in a clearer way? I'd be happy to try to answer your question about dogs, but I need a more coherent and grammatically correct question to work with. Please take your time and provide the details you want me to address. I'll do my best to give you a short, direct answer.\n"
          ]
        }
      ]
    },
    {
      "cell_type": "markdown",
      "source": [
        "**Q4.3** Fix the prompt **WITHOUT adding XML tags**. Instead, remove only one or two words from the prompt."
      ],
      "metadata": {
        "id": "3I2gC1bv0e5r"
      }
    },
    {
      "cell_type": "code",
      "source": [
        "QUESTION = \"ar cn brown?\"\n",
        "prompt = f\"Hia its me i have a q about dogs jkaerjv {QUESTION} jklmvca tx it help me muhch much atx fst fst answer short short tx\"\n",
        "print(get_response(prompt))"
      ],
      "metadata": {
        "colab": {
          "base_uri": "https://localhost:8080/"
        },
        "id": "NPvOcOYg0k5Y",
        "outputId": "65debe1f-5ddf-4fe7-b57c-5d34d9543aca"
      },
      "execution_count": null,
      "outputs": [
        {
          "output_type": "stream",
          "name": "stdout",
          "text": [
            "I'm afraid I don't fully understand your question. Could you please rephrase it in a clearer way? I'd be happy to try to answer your question about dogs, but I need a more coherent and grammatically correct question to work with. Please take your time and provide the details you want me to address. I'll do my best to give you a short, direct answer.\n"
          ]
        }
      ]
    },
    {
      "cell_type": "markdown",
      "source": [
        "### **Q5**: Formatting Output & Speaking for Claude"
      ],
      "metadata": {
        "id": "LVPbMPvL04hB"
      }
    },
    {
      "cell_type": "markdown",
      "source": [
        "**Q5.1** Forced to make a choice, Claude designates Michael Jordan as the best basketball player of all time. Can we get Claude to pick someone else?\n",
        "\n",
        "Modify the \"best basketball player\" prompt and use the prefill technique (putting words after \"Assistant:\") to compell Claude to make a detailed argument that the best basketball player of all time is Stephen Curry."
      ],
      "metadata": {
        "id": "9zeV8Be_112N"
      }
    },
    {
      "cell_type": "code",
      "source": [
        "prompt = \"Who is the best basketball player of all time? Please choose one specific player.\"\n",
        "prefill = \"\"\n",
        "print(get_response(prompt, prefill=prefill))"
      ],
      "metadata": {
        "colab": {
          "base_uri": "https://localhost:8080/"
        },
        "id": "SKPzlu1a2EL9",
        "outputId": "667bb7c7-6bf2-4ff0-95eb-e74e0c9f5831"
      },
      "execution_count": 6,
      "outputs": [
        {
          "output_type": "stream",
          "name": "stdout",
          "text": [
            "In my opinion, the best basketball player of all time is Michael Jordan. Here's a brief overview of why I believe this:\n",
            "\n",
            "- Michael Jordan is widely regarded as one of the most dominant and influential players in NBA history. He is a 6-time NBA champion, 5-time MVP, 14-time All-Star, and 10-time scoring champion.\n",
            "\n",
            "- Jordan's combination of athleticism, skill, competitiveness, and clutch performances made him nearly unstoppable during his prime years in the 1980s and 1990s. He is considered one of the greatest scorers the game has ever seen.\n",
            "\n",
            "- Jordan's impact on the sport of basketball and popular culture is unparalleled. He helped drive the NBA's global popularity and is considered a cultural icon. His \"Air Jordan\" brand with Nike is one of the most successful athlete-endorsed products ever.\n",
            "\n",
            "- While players like LeBron James, Kareem Abdul-Jabbar, and others have strong cases, Jordan's sustained excellence, individual accolades, and cultural impact set him apart in the minds of many basketball experts and fans as the undisputed GOAT (greatest of all time).\n",
            "\n",
            "Of course, the \"best player of all time\" debate is highly subjective, but Michael Jordan is the name that most often comes up when this question is asked. He had an unmatched combination of skill, athleticism, and winning pedigree that cement his status as the basketball GOAT in my opinion.\n"
          ]
        }
      ]
    },
    {
      "cell_type": "markdown",
      "source": [
        "**Q5.2** Modify the haiku prompt below and **use XML tags so that Claude writes two haikus about the animal instead of just one**. It should be clear where one poem ends and the other begins.\n"
      ],
      "metadata": {
        "id": "gLhhrLZM2bME"
      }
    },
    {
      "cell_type": "code",
      "source": [
        "ANIMAL = 'cats'\n",
        "prompt = f\"Please write a haiku about {ANIMAL}. Put it in <haiku> tags.\" #Modify this one\n",
        "prefill = \"<haiku>\"\n",
        "print(get_response(prompt, prefill=prefill))"
      ],
      "metadata": {
        "id": "z1xZdber3hN5"
      },
      "execution_count": null,
      "outputs": []
    },
    {
      "cell_type": "markdown",
      "source": [
        "**Q5.3** Modify the haiku prompt in the highlighted template box below so that Claude produces two haikus about two different animals.\n",
        "\n",
        "Use {ANIMAL1} as a stand-in for the first substitution, and {ANIMAL2} as a stand-in for the second substitution."
      ],
      "metadata": {
        "id": "3LSjviFn4fll"
      }
    },
    {
      "cell_type": "code",
      "source": [
        "ANIMAL1 = 'cat'\n",
        "ANIMAL2 = 'dog'\n",
        "prompt = f\"Please write a haiku about {ANIMAL1}. Put it in <haiku> tags.\" #Modify this one\n",
        "print(get_response(prompt))"
      ],
      "metadata": {
        "id": "Za47Llhv4fag"
      },
      "execution_count": null,
      "outputs": []
    },
    {
      "cell_type": "markdown",
      "source": [
        "**Q5.4**: In this exercise, we'll be instructing Claude to sort emails into the following categories:\n",
        "\n",
        "* (A) Pre-sale question\n",
        "* (B) Broken or defective item\n",
        "* (C) Billing question\n",
        "* (D) Other (please explain)\n",
        "\n",
        "For the first part of the exercise, change the prompt below to **make Claude output the correct classification and ONLY the classification**. Your answer needs to include the letter (A - D) of the correct choice, with the parentheses, as well as the name of the category.\n"
      ],
      "metadata": {
        "id": "gFvvG10q6Dim"
      }
    },
    {
      "cell_type": "code",
      "source": [
        "prompt = f\"Please classify this email as either green or blue: {{EMAIL}}\" #Modify this!\n",
        "prefill = \"\"\n",
        "# Hint:\n",
        "## 1) How will Claude know what categories you want to use?\n",
        "## 2) Be sure to tell to only include the classification\n",
        "## 3) Consider using prefill to force Claude to only response with the classification immedietely\n",
        "\n",
        "email1 = \"Hi -- My Mixmaster4000 is producing a strange noise when I operate it. It also smells a bit smoky and plasticky, like burning electronics.  I need a replacement.\"\n",
        "email2 = \"Can I use my Mixmaster 4000 to mix paint, or is it only meant for mixing food?\"\n",
        "email3 = \"I HAVE BEEN WAITING 4 MONTHS FOR MY MONTHLY CHARGES TO END AFTER CANCELLING!!  WTF IS GOING ON???\"\n",
        "email4 = \"How did I get here I am not good with computer.  Halp.\"\n",
        "\n",
        "print(get_response(prompt.format(EMAIL=email1)), prefill=prefill) # The answer is B\n",
        "print(get_response(prompt.format(EMAIL=email2)), prefill=prefill) # The answer is D or A\n",
        "print(get_response(prompt.format(EMAIL=email3)), prefill=prefill) # The answer is C\n",
        "print(get_response(prompt.format(EMAIL=email4)), prefill=prefill) # The answer is D"
      ],
      "metadata": {
        "id": "VFvPeqLh4vL4"
      },
      "execution_count": null,
      "outputs": []
    },
    {
      "cell_type": "markdown",
      "source": [
        "### **Q6** Using examples"
      ],
      "metadata": {
        "id": "Kf08J5aO9uTn"
      }
    },
    {
      "cell_type": "markdown",
      "source": [
        "**Q6.1**:  In this exercise, we're going to refine the output of the above prompt to yield an answer formatted exactly how we want it. This time, we're going to use \"few-shot\" examples of emails + proper classification (and formatting) to get Claude to output the correct\n",
        "\n",
        "Use XML to make Claude wrap just the letter of the correct classification in `<answer></answer>` tags. Refer to the above exercise if you forget which letter is correct for each email. For instance, the answer to the first email should contain the exact string `<answer>B</answer>`."
      ],
      "metadata": {
        "id": "AXswA4v98V0N"
      }
    },
    {
      "cell_type": "code",
      "source": [
        "prompt = f\"Please classify this email as either green or blue: {{EMAIL}}\" # Start from your previous answer.\n",
        "prefill = \"\" # If you prefill, Claude won't actually output that as part of its response.\n",
        "# Hint: you could ask Claude to help come with examples if you struggle to come up with one.\n",
        "\n",
        "email1 = \"Hi -- My Mixmaster4000 is producing a strange noise when I operate it. It also smells a bit smoky and plasticky, like burning electronics.  I need a replacement.\"\n",
        "email2 = \"Can I use my Mixmaster 4000 to mix paint, or is it only meant for mixing food?\"\n",
        "email3 = \"I HAVE BEEN WAITING 4 MONTHS FOR MY MONTHLY CHARGES TO END AFTER CANCELLING!!  WTF IS GOING ON???\"\n",
        "email4 = \"How did I get here I am not good with computer.  Halp.\"\n",
        "\n",
        "print(get_response(prompt.format(EMAIL=email1)), prefill=prefill) # The answer is B\n",
        "print(get_response(prompt.format(EMAIL=email2)), prefill=prefill) # The answer is D or A\n",
        "print(get_response(prompt.format(EMAIL=email3)), prefill=prefill) # The answer is C\n",
        "print(get_response(prompt.format(EMAIL=email4)), prefill=prefill) # The answer is D"
      ],
      "metadata": {
        "id": "XzyKXGEs8XKA"
      },
      "execution_count": null,
      "outputs": []
    },
    {
      "cell_type": "markdown",
      "source": [
        "## **Q7**: Dealing with Hallucinations"
      ],
      "metadata": {
        "id": "L5q-aC15ApEN"
      }
    },
    {
      "cell_type": "markdown",
      "source": [
        "**Q7.1** Adapt the prompt below to fix Claude's hallucination issue by giving Claude an out. (Renaissance is Beyoncé's seventh studio album, not her eighth.)\n",
        "\n",
        "Hint: an out = allowing Claude to say I don't know.\n"
      ],
      "metadata": {
        "id": "8AFpXrIVA2EX"
      }
    },
    {
      "cell_type": "code",
      "source": [
        "prompt = \"In what year did star performer Beyoncé release her eighth studio album?\"\n",
        "print(get_response(prompt))"
      ],
      "metadata": {
        "colab": {
          "base_uri": "https://localhost:8080/"
        },
        "id": "iU23kpE9BKIC",
        "outputId": "a4c3e7ee-4ccc-46f6-b5ea-cae92d1f966f"
      },
      "execution_count": null,
      "outputs": [
        {
          "output_type": "stream",
          "name": "stdout",
          "text": [
            "Beyoncé released her eighth studio album, Renaissance, in 2022.\n",
            "\n",
            "The album was released on July 29, 2022 through Parkwood Entertainment and Columbia Records.\n",
            "\n",
            "Some key details:\n",
            "\n",
            "- Renaissance is Beyoncé's eighth solo studio album, following her previous album Lemonade which was released in 2016.\n",
            "\n",
            "- The album was announced by Beyoncé in June 2022, with the release date of July 29, 2022.\n",
            "\n",
            "- Renaissance has been praised by critics as a return to Beyoncé's dance-oriented roots, drawing influences from disco, house, and other electronic dance music genres.\n",
            "\n",
            "So in summary, Beyoncé's eighth studio album Renaissance was released in the year 2022.\n"
          ]
        }
      ]
    },
    {
      "cell_type": "markdown",
      "source": [
        "**Q7.2** Modify the prompt below to fix Claude's hallucination issue by asking for citations. The correct answer is that subscribers went up 49-fold.\n"
      ],
      "metadata": {
        "id": "b0B40I_HBl0f"
      }
    },
    {
      "cell_type": "code",
      "source": [
        "# Hint:\n",
        "# 1) Ask it to read or use the document\n",
        "# 2) Then ask Claude to list the relevant quote from the document\n",
        "# 3) Then consider whether the quote answers the question.\n",
        "# 4) Finally, ask it to write an answer\n",
        "# 5) use XML tags as you see fit. (e.g., <thinking>, <scatchpad>, <answer>)\n",
        "\n",
        "prompt = \"\"\"User: From December 2018 to December 2022, by what amount did Matterport's subscribers grow?\n",
        "\n",
        "<document>\n",
        "Matterport SEC filing 10-K 2023\n",
        "Item 1. Business\n",
        "Our Company\n",
        "Matterport is leading the digitization and datafication of the built world. We believe the digital transformation of the built world will fundamentally change the way people interact with buildings and the physical spaces around them.\n",
        "Since its founding in 2011, Matterport’s pioneering technology has set the standard for digitizing, accessing and managing buildings, spaces and places online. Our platform’s innovative software, spatial data-driven data science, and 3D capture technology have broken down the barriers that have kept the largest asset class in the world, buildings and physical spaces, offline and underutilized for many years. We believe the digitization and datafication of the built world will continue to unlock significant operational efficiencies and property values, and that Matterport is the platform to lead this enormous global transformation.\n",
        "The world is rapidly moving from offline to online. Digital transformation has made a powerful and lasting impact across every business and industry today. According to International Data Corporation, or IDC, over $6.8 trillion of direct investments will be made on digital transformation from 2020 to 2023, the global digital transformation spending is forecasted to reach $3.4 trillion in 2026 with a five-year compound annual growth rate (“CAGR”) of 16.3%, and digital twin investments are expected to have a five-year CAGR of 35.2%. With this secular shift, there is also growing demand for the built world to transition from physical to digital. Nevertheless, the vast majority of buildings and spaces remain offline and undigitized. The global building stock, estimated by Savills to be $327 trillion in total property value as of 2021, remains largely offline today, and we estimate that less than 0.1% is penetrated by digital transformation.\n",
        "Matterport was among the first to recognize the increasing need for digitization of the built world and the power of spatial data, the unique details underlying buildings and spaces, in facilitating the understanding of buildings and spaces. In the past, technology advanced physical road maps to the data-rich, digital maps and location services we all rely on today. Matterport now digitizes buildings, creating a data-rich environment to vastly increase our understanding and the full potential of each and every space we capture. Just as we can instantly, at the touch of a button, learn the fastest route from one city to another or locate the nearest coffee shops, Matterport’s spatial data for buildings unlocks a rich set of insights and learnings about properties and spaces worldwide. In addition, just as the geo-spatial mapping platforms of today have opened their mapping data to industry to create new business models such as ridesharing, e-commerce, food delivery marketplaces, and even short-term rental and home sharing, open access to Matterport’s structured spatial data is enabling new opportunities and business models for hospitality, facilities management, insurance, construction, real estate and retail, among others.\n",
        "We believe the total addressable market opportunity for digitizing the built world is over $240 billion, and could be as high as $1 trillion as the market matures at scale. This is based on our analysis, modeling and understanding of the global building stock of over 4 billion properties and 20 billion spaces in the world today. With the help of artificial intelligence (“AI”), machine learning (“ML”) and deep learning (“DL”) technologies, we believe that, with the additional monetization opportunities from powerful spatial data-driven property insights and analytics, the total addressable market for the digitization and datafication of the built world will reach more than $1 trillion.\n",
        "\n",
        "Our spatial data platform and capture of digital twins deliver value across a diverse set of industries and use cases. Large retailers can manage thousands of store locations remotely, real estate agencies can provide virtual open houses for hundreds of properties and thousands of visitors at the same time, property developers can monitor the entirety of the construction process with greater detail and speed, and insurance companies can more precisely document and evaluate claims and underwriting assessments with efficiency and precision. Matterport delivers the critical digital experience, tools and information that matter to our subscribers about properties of virtually any size, shape, and location worldwide.\n",
        "For nearly a decade, we have been growing our spatial data platform and expanding our capabilities in order to create the most detailed, accurate, and data-rich digital twins available. Moreover, our 3D reconstruction process is fully automated, allowing our solution to scale with equal precision to millions of buildings and spaces of any type, shape, and size in the world. The universal applicability of our service provides Matterport significant scale and reach across diverse verticals and any geography. As of December 31, 2022, our subscriber base had grown approximately 39% to over 701,000 subscribers from 503,000 subscribers as of December 31, 2021, with our digital twins reaching more than 170 countries. We have digitized more than 28 billion square feet of space across multiple industries, representing significant scale and growth over the rest of the market.\n",
        "\n",
        "As we continue to transform buildings into data worldwide, we are extending our spatial data platform to further transform property planning, development, management and intelligence for our subscribers across industries to become the de facto building and business intelligence engine for the built world. We believe the demand for spatial data and resulting insights for enterprises, businesses and institutions across industries, including real estate, architecture, engineering and construction (“AEC”), retail, insurance and government, will continue to grow rapidly.\n",
        "We believe digitization and datafication represent a tremendous greenfield opportunity for growth across this massive category and asset class. From the early stages of design and development to marketing, operations, insurance and building repair and maintenance, our platform’s software and technology provide subscribers critical tools and insights to drive cost savings, increase revenues and optimally manage their buildings and spaces. We believe that hundreds of billions of dollars in unrealized utilization and operating efficiencies in the built world can be unlocked through the power of our spatial data platform. Our platform and data solutions have universal applicability across industries and building categories, giving Matterport a significant advantage as we can address the entirety of this large market opportunity and increase the value of what we believe to be the largest asset class in the world.\n",
        "With a demonstrated track record of delivering value to our subscribers, our offerings include software subscription, data licensing, services and product hardware. As of December 31, 2022, our subscriber base included over 24% of Fortune 1000 companies, with less than 10% of our total revenue generated from our top 10 subscribers. We expect more than 80% of our revenue to come from our software subscription and data license solutions by 2025. Our innovative 3D capture products, the Pro2 and Pro3 Cameras, have played an integral part in shaping the 3D building and property visualization ecosystem. The Pro2 and Pro3 Cameras have driven adoption of our solutions and have generated the unique high-quality and scaled data set that has enabled Cortex, our proprietary AI software engine, to become the pioneering engine for digital twin creation. With this data advantage initially spurred by the Pro2 Camera, we have developed a capture device agnostic platform that scales and can generate new building and property insights for our subscribers across industries and geographies.\n",
        "We have recently experienced rapid growth. Our subscribers have grown approximately 49-fold from December 31, 2018 to December 31, 2022. Our revenue increased by approximately 22% to $136.1 million for the year ended December 31, 2022, from approximately $111.2 million for the year ended December 31, 2021. Our gross profit decreased by $8.1 million or 14%, to $51.8 million for the year ended December 31, 2022, from $60.0 million for the year ended December 31, 2021, primarily attributable to certain disruptive and incremental costs due to the global supply chain constraints in fiscal year 2022. Our ability to retain and grow the subscription revenue generated by our existing subscribers is an important measure of the health of our business and our future growth prospects. We track our performance in this area by measuring our net dollar expansion rate from the same set of customers across comparable periods. Our net dollar expansion rate of 103% for the three months ended December 31, 2022 demonstrates the stickiness and growth potential of our platform.\n",
        "Our Industry and Market Opportunity\n",
        "Today, the vast majority of buildings and spaces remain undigitized. We estimate our current serviceable addressable market includes approximately 1.3 billion spaces worldwide, primarily from the real estate and travel and hospitality sectors. With approximately 9.2 million spaces under management as of December 31, 2022, we are continuing to penetrate the global building stock and expand our footprint across various end markets, including residential and commercial real estate, facilities management, retail, AEC, insurance and repair, and travel and hospitality. We estimate our total addressable market to be more than 4 billion buildings and 20 billion spaces globally, yielding a more than $240 billion market opportunity. We believe that as Matterport’s unique spatial data library and property data services continue to grow, this opportunity could increase to more than $1 trillion based on the size of the building stock and the untapped value creation available to buildings worldwide. The constraints created by the COVID-19 pandemic have only reinforced and accelerated the importance of our scaled 3D capture solution that we have developed for diverse industries and markets over the past decade.\n",
        "\n",
        "Our Spatial Data Platform\n",
        "Overview\n",
        "Our technology platform uses spatial data collected from a wide variety of digital capture devices to transform physical buildings and spaces into dimensionally accurate, photorealistic digital twins that provide our subscribers access to previously unavailable building information and insights.\n",
        "As a first mover in this massive market for nearly a decade, we have developed and scaled our industry-leading 3D reconstruction technology powered by Cortex, our proprietary AI-driven software engine that uses machine learning to recreate a photorealistic, 3D virtual representation of an entire building structure, including contents, equipment and furnishings. The finished product is a detailed and dynamic replication of the physical space that can be explored, analyzed and customized from a web browser on any device, including smartphones. The power to manage even large-scale commercial buildings is in the palm of each subscriber’s hands, made possible by our advanced technology and breakthrough innovations across our entire spatial data technology stack.\n",
        "Key elements of our spatial data platform include:\n",
        "•Bringing offline buildings online. Traditionally, our customers needed to conduct in-person site visits to understand and assess their buildings and spaces. While photographs and floor plans can be helpful, these forms of two-dimensional (“2D”) representation have limited information and tend to be static and rigid, and thus lack the interactive element critical to a holistic understanding of each building and space. With the AI-powered capabilities of Cortex, our proprietary AI software, representation of physical objects is no longer confined to static 2D images and physical visits can be eliminated. Cortex helps to move the buildings and spaces from offline to online and makes them accessible to our customers in real-time and on demand from anywhere. After subscribers scan their buildings, our visualization algorithms accurately infer spatial positions and depths from flat, 2D imagery captured through the scans and transform them into high- fidelity and precise digital twin models. This creates a fully automated image processing pipeline to ensure that each digital twin is of professional grade image quality.\n",
        "•Driven by spatial data. We are a data-driven company. Each incremental capture of a space grows the richness and depth of our spatial data library. Spatial data represents the unique and idiosyncratic details that underlie and compose the buildings and spaces in the human- made environment. Cortex uses the breadth of the billions of data points we have accumulated over the years to improve the 3D accuracy of our digital twins. We help our subscribers pinpoint the height, location and other characteristics of objects in their digital twin. Our sophisticated algorithms also deliver significant commercial value to our subscribers by generating data-based insights that allow them to confidently make assessments and decisions about their properties. For instance, property developers can assess the amount of natural heat and daylight coming from specific windows, retailers can ensure each store layout is up to the same level of code and brand requirements, and factories can insure machinery layouts meet specifications and location guidelines. With approximately 9.2 million spaces under management as of December 31, 2022, our spatial data library is the clearinghouse for information about the built world.\n",
        "•Powered by AI and ML. Artificial intelligence and machine learning technologies effectively utilize spatial data to create a robust virtual experience that is dynamic, realistic, interactive, informative and permits multiple viewing angles. AI and ML also make costly cameras unnecessary for everyday scans—subscribers can now scan their spaces by simply tapping a button on their smartphones. As a result, Matterport is a device agnostic platform, helping us more rapidly scale and drive towards our mission of digitizing and indexing the built world.\n",
        "Our value proposition to subscribers is designed to serve the entirety of the digital building lifecycle, from design and build to maintenance and operations, promotion, sale, lease, insure, repair, restore, secure and finance. As a result, we believe we are uniquely positioned to grow our revenue with our subscribers as we help them to discover opportunities to drive short- and long-term return on investment by taking their buildings and spaces from offline to online across their portfolios of properties.\n",
        "Ubiquitous Capture\n",
        "Matterport has become the standard for 3D space capture. Our technology platform empowers subscribers worldwide to quickly, easily and accurately digitize, customize and manage interactive and dimensionally accurate digital twins of their buildings and spaces.\n",
        "The Matterport platform is designed to work with a wide range of LiDAR, spherical, 3D and 360 cameras, as well as smartphones, to suit the capture needs of all of our subscribers. This provides the flexibility to capture a space of any size, scale, and complexity, at anytime and anywhere.\n",
        "•Matterport Pro3 is our newest 3D camera that scans properties faster than earlier versions to help accelerate project completion. Pro3 provides the highest accuracy scans of both indoor and outdoor spaces and is designed for speed, fidelity, versatility and accuracy. Capturing 3D data up to 100 meters away at less than 20 seconds per sweep, Pro3’s ultra-fast, high-precision LiDAR sensor can run for hours and takes millions of measurements in any conditions.\n",
        "•Matterport Pro2 is our proprietary 3D camera that has been used to capture millions of spaces around the world with a high degree of fidelity, precision, speed and simplicity. Capable of capturing buildings more than 500,000 square feet in size, it has become the camera of choice for many residential, commercial, industrial and large-scale properties.\n",
        "•360 Cameras. Matterport supports a selection of 360 cameras available in the market. These affordable, pocket sized devices deliver precision captures with high fidelity and are appropriate for capturing smaller homes, condos, short-term rentals, apartments, and more. The spherical lens image capture technology of these devices gives Cortex robust, detailed image data to transform panoramas into our industry-leading digital twins.\n",
        "•LEICA BLK360. Through our partnership with Leica, our 3D reconstruction technology and our AI powered software engine, Cortex, transform this powerful LiDAR camera into an ultra-precise capture device for creating Matterport digital twins. It is the solution of choice for AEC professionals when exacting precision is required.\n",
        "•Smartphone Capture. Our capture apps are commercially available for both iOS and Android. Matterport’s smartphone capture solution has democratized 3D capture, making it easy and accessible for anyone to digitize buildings and spaces with a recent iPhone device since the initial introduction of Matterport for iPhone in May 2020. In April 2021, we announced the official release of the Android Capture app, giving Android users the ability to quickly and easily capture buildings and spaces in immersive 3D. In February 2022, we launched Matterport Axis, a motorized mount that holds a smartphone and can be used with the Matterport Capture app to capture 3D digital twins of any physical space with increased speed, precision, and consistency.\n",
        "Cortex and 3D Reconstruction (the Matterport Digital Twin)\n",
        "With a spatial data library, as of December 31, 2022, of approximately 9.2 million spaces under management, representing approximately 28 billion captured square feet of space, we use our advanced ML and DL technologies to algorithmically transform the spatial data we capture into an accurate 3D digital reproduction of any physical space. This intelligent, automated 3D reconstruction is made possible by Cortex, our AI-powered software engine that includes a deep learning neural network that uses our spatial data library to understand how a building or space is divided into floors and rooms, where the doorways and openings are located, and what types of rooms are present, such that those forms are compiled and aligned with dimensional accuracy into a dynamic, photorealistic digital twin. Other components of Cortex include AI-powered computer vision technologies to identify and classify the contents inside a building or space, and object recognition technologies to identify and segment everything from furnishings and equipment to doors, windows, light fixtures, fire suppression sprinklers and fire escapes. Our highly scalable artificial intelligence platform enables our subscribers to tap into powerful, enhanced building data and insights at the click of a button.\n",
        "\n",
        "The Science Behind the Matterport Digital Twin: Cortex AI Highlights\n",
        "Matterport Runs on Cortex\n",
        "Cortex is our AI-powered software engine that includes a precision deep learning neural network to create digital twins of any building or space. Developed using our proprietary spatial data captured with our Pro2 and Pro3 cameras, Cortex delivers a high degree of precision and accuracy while enabling 3D capture using everyday devices.\n",
        "Generic neural networks struggle with 3D reconstruction of the real world. Matterport-optimized networks deliver more accurate and robust results. More than just raw training data, Matterport’s datasets allow us to develop new neural network architectures and evaluate them against user behavior and real-world data in millions of situations.\n",
        "•Deep learning: Connecting and optimizing the detailed neural network data architecture of each space is key to creating robust, highly accurate 3D digital twins. Cortex evaluates and optimizes each 3D model against Matterport’s rich spatial data aggregated from millions of buildings and spaces and the human annotations of those data provided by tens of thousands of subscribers worldwide. Cortex’s evaluative abilities and its data-driven optimization of 3D reconstruction yield consistent, high-precision results across a wide array of building configurations, spaces and environments.\n",
        "•Dynamic 3D reconstruction: Creating precise 3D spatial data at scale from 2D visuals and static images requires a combination of photorealistic, detailed data from multiple viewpoints and millions of spaces that train and optimize Cortex’s neural network and learning capabilities for improved 3D reconstruction of any space. Cortex’s capabilities combined with real-time spatial alignment algorithms in our 3D capture technology create an intuitive “preview” of any work in progress, allowing subscribers to work with their content interactively and in real-time.\n",
        "•Computer vision: Cortex enables a suite of powerful features to enhance the value of digital twins. These include automatic measurements for rooms or objects in a room, automatic 2D-from-3D high-definition photo gallery creation, auto face blurring for privacy protection, custom videos, walkthroughs, auto room labeling and object recognition.\n",
        "•Advanced image processing: Matterport’s computational photography algorithms create a fully automated image processing pipeline to help ensure that each digital twin is of professional grade image quality. Our patented technology makes 3D capture as simple as pressing a single button. Matterport’s software and technology manage the remaining steps, including white balance and camera-specific color correction, high dynamic range tone mapping, de-noising, haze removal, sharpening, saturation and other adjustments to improve image quality.\n",
        "Spatial Data and AI-Powered Insights\n",
        "Every Matterport digital twin contains extensive information about a building, room or physical space. The data uses our AI-powered Cortex engine. In addition to the Matterport digital twin itself, our spatial data consists of precision building geometry and structural detail, building contents, fixtures and condition, along with high-definition imagery and photorealistic detail from many vantage points in a space. Cortex employs a technique we call deep spatial indexing. Deep spatial indexing uses artificial intelligence, computer vision and deep learning to identify and convey important details about each space, its structure and its contents with precision and fidelity. We have created a robust spatial data standard that enables Matterport subscribers to harness an interoperable digital system of record for any building.\n",
        "In addition to creating a highly interactive digital experience for subscribers through the construction of digital twins, we ask ourselves two questions for every subscriber: (1) what is important about their building or physical space and (2) what learnings and insights can we deliver for this space? Our AI-powered Cortex engine helps us answer these questions using our spatial data library to provide aggregated property trends and operational and valuation insights. Moreover, as the Matterport platform ecosystem continues to expand, our subscribers, partners and other third-party developers can bring their own tools to further the breadth and depth of insights they can harvest from our rich spatial data layer.\n",
        "Extensible Platform Ecosystem\n",
        "Matterport offers the largest and most accurate library of spatial data in the world, with, as of December 31, 2022, approximately 9.2 million spaces under management and approximately 28 billion captured square feet. The versatility of our spatial data platform and extensive enterprise software development kit and application programming interfaces (“APIs”) has allowed us to develop a robust global ecosystem of channels and partners that extend the Matterport value proposition by geography and vertical market. We intend to continue to deploy a broad set of workflow integrations with our partners and their subscribers to promote an integrated Matterport solution across our target markets. We are also developing a third-party software marketplace to extend the power of our spatial data platform with easy-to-deploy and easy-to-access Matterport software add-ons. The marketplace enables developers to build new applications and spatial data mining tools, enhance the Matterport 3D experience, and create new productivity and property management tools that supplement our core offerings. These value-added capabilities created by third-party developers enable a scalable new revenue stream, with Matterport sharing the subscription and services revenue from each add-on that is deployed to subscribers through the online marketplace. The network effects of our platform ecosystem contributes to the growth of our business, and we believe that it will continue to bolster future growth by enhancing subscriber stickiness and user engagement.\n",
        "Examples of Matterport add-ons and extensions include:\n",
        "•Add-ons: Encircle (easy-to-use field documentation tools for faster claims processing); WP Matterport Shortcode (free Wordpress plugin that allows Matterport to be embedded quickly and easily with a Matterport shortcode), WP3D Models (WordPress + Matterport integration plugin); Rela (all-in-one marketing solution for listings); CAPTUR3D (all-in-one Content Management System that extends value to Matterport digital twins); Private Model Emded (feature that allows enterprises to privately share digital twins with a large group of employees on the corporate network without requiring additional user licenses); Views (new workgroup collaboration framework to enable groups and large organizations to create separate, permissions-based workflows to manage different tasks with different teams); and Guided Tours and Tags (tool to elevate the visitor experience by creating directed virtual tours of any commercial or residential space tailored to the interests of their visitors). We unveiled our private beta integration with Amazon Web Services (AWS) IoT TwinMaker to enable enterprise customers to seamlessly connect IoT data into visually immersive and dimensionally accurate Matterport digital twin.\n",
        "•Services: Matterport ADA Compliant Digital Twin (solution to provide American Disability Act compliant digital twins) and Enterprise Cloud Software Platform (reimagined cloud software platform for the enterprise that creates, publishes, and manages digital twins of buildings and spaces of any size of shape, indoors or outdoors).\n",
        "Our Competitive Strengths\n",
        "We believe that we have a number of competitive strengths that will enable our market leadership to grow. Our competitive strengths include:\n",
        "•Breadth and depth of the Matterport platform. Our core strength is our all-in-one spatial data platform with broad reach across diverse verticals and geographies such as capture to processing to industries without customization. With the ability to integrate seamlessly with various enterprise systems, our platform delivers value across the property lifecycle for diverse end markets, including real estate, AEC, travel and hospitality, repair and insurance, and industrial and facilities. As of December 31, 2022, our global reach extended to subscribers in more than 170 countries, including over 24% of Fortune 1000 companies.\n",
        "•Market leadership and first-mover advantage. Matterport defined the category of digitizing and datafying the built world almost a decade ago, and we have become the global leader in the category. As of December 31, 2022, we had over 701,000 subscribers on our platform and approximately 9.2 million spaces under management. Our leadership is primarily driven by the fact that we were the first mover in digital twin creation. As a result of our first mover advantage, we have amassed a deep and rich library of spatial data that continues to compound and enhance our leadership position.\n",
        "•Significant network effect. With each new capture and piece of data added to our platform, the richness of our dataset and the depth of insights from our spaces under management grow. In addition, the combination of our ability to turn data into insights with incremental data from new data captures by our subscribers enables Matterport to develop features for subscribers to our platform. We were a first mover in building a spatial data library for the built world, and our leadership in gathering and deriving insights from data continues to compound and the relevance of those insights attracts more new subscribers.\n",
        "•Massive spatial data library as the raw material for valuable property insights. The scale of our spatial data library is a significant advantage in deriving insights for our subscribers. Our spatial data library serves as vital ground truth for Cortex, enabling Matterport to create powerful 3D digital twins using a wide range of camera technology, including low-cost digital and smartphone cameras. As of December 31, 2022, our data came from approximately 9.2 million spaces under management and approximately 28 billion captured square feet. As a result, we have taken property insights and analytics to new levels, benefiting subscribers across various industries. For example, facilities managers significantly reduce the time needed to create building layouts, leading to a significant decrease in the cost of site surveying and as-built modeling. AEC subscribers use the analytics of each as-built space to streamline documentation and collaborate with ease.\n",
        "•Global reach and scale. We are focused on continuing to expand our AI-powered spatial data platform worldwide. We have a significant presence in North America, Europe and Asia, with leadership teams and a go-to-market infrastructure in each of these regions. We have offices in London, Singapore and several across the United States, and we are accelerating our international expansion. As of December 31, 2022, we had over 701,000 subscribers in more than 170 countries. We believe that the geography-agnostic nature of our spatial data platform is a significant advantage as we continue to grow internationally.\n",
        "•Broad patent portfolio supporting 10 years of R&D and innovation. As of December 31, 2022, we had 54 issued and 37 pending patent applications. Our success is based on almost 10 years of focus on innovation. Innovation has been at the center of Matterport, and we will continue to prioritize our investments in R&D to further our market leading position.\n",
        "•Superior capture technology. Matterport’s capture technology platform is a software framework that enables support for a wide variety of capture devices required to create a Matterport digital twin of a building or space.\n",
        "This includes support for LiDAR cameras, 360 cameras, smartphones, Matterport Axis and the Matterport Pro2 and Pro3 cameras. The Pro2 camera was foundational to our spatial data advantage, and we have expanded that advantage with an array of Matterport-enabled third-party capture devices. In August 2022, we launched and began shipment of our Pro3 Camera along with major updates to our industry-leading digital twin cloud platform. The Matterport Pro3 Camera is an advanced 3D capture device, which includes faster boot time, swappable batteries, and a lighter design. The Pro3 camera can perform both indoors and outdoors and is designed for speed, fidelity, versatility and accuracy. Along with our Pro2 Camera, we expect that future sales of our Pro3 Camera will continue to drive increased adoption of our solutions. Matterport is democratizing the 3D capture experience, making high-fidelity and high-accuracy 3D digital twins readily available for any building type and any subscriber need in the property life cycle. While there are other 3D capture solution providers, very few can produce true, dimensionally accurate 3D results, and fewer still can automatically create a final product in photorealistic 3D, and at global scale. This expansive capture technology offering would not be possible without our rich spatial data library available to train the AI-powered Cortex engine to automatically generate accurate digital twins from photos captured with a smartphone or 360 camera.\n",
        "</document>\n",
        "\"\"\"\n",
        "\n",
        "print(get_response(prompt))"
      ],
      "metadata": {
        "id": "6TtZoVH2BvS0"
      },
      "execution_count": null,
      "outputs": []
    },
    {
      "cell_type": "markdown",
      "source": [
        "## Part 2: Classify Customer Intent (2 points)\n",
        "\n",
        "For this problem, your task is to create a prompt for Claude 3 Haiku to classify the customer query into category and intent. The dataset is from https://huggingface.co/datasets/bitext/Bitext-customer-support-llm-chatbot-training-dataset.\n",
        "The code below will filter the data out to only 3 categories and 9 intents as follows.\n",
        "\n",
        "* ORDER category\n",
        "  * cancel_order\n",
        "  * change_order\n",
        "  * place_order\n",
        "  * track_order\n",
        "* PAYMENT category\n",
        "  * check_payment_methods\n",
        "  * payment_issue\n",
        "* REFUND category\n",
        "  * check_refund_policy\n",
        "  * get_refund\n",
        "  * track_refund\n",
        "\n",
        "For each intent, there are 5 data points (total 45). This is due to the rate limit of free tier account.\n",
        "\n",
        "**Input-Ouput Requirement:**\n",
        "\n",
        "- Input will be pass to `{{QUERY}}` so your prompt must include it.\n",
        "- Output for category must be inside `<category>` tags and for output for intent must be inside `<intent>` tags\n",
        "- See the code below for more details\n",
        "- Due to rate limit, the code below will send the query every 0.2 seconds. You may not want to wait until the end if your prompt doesn't work correctly. You can stop and change your prompt.\n",
        "\n",
        "**Evaluation:**\n",
        "- For this problem, we will check two things: the accuracy in predicting category and the accuracy in predicting intent. The baseline for predicting category is 33.34% and for intent is 11.11%. **To get points, you must perform better than the baselines.** If you do everything correctly, you will like get close to 100%.\n",
        "- The code for evaluation is provided for you."
      ],
      "metadata": {
        "id": "buq4w8ncFnyA"
      }
    },
    {
      "cell_type": "markdown",
      "source": [
        "### Load the data"
      ],
      "metadata": {
        "id": "8mcGMensht5W"
      }
    },
    {
      "cell_type": "code",
      "source": [
        "# You will get a warning but you can simply ignore it.\n",
        "df = pd.read_csv(\"hf://datasets/bitext/Bitext-customer-support-llm-chatbot-training-dataset/Bitext_Sample_Customer_Support_Training_Dataset_27K_responses-v11.csv\")"
      ],
      "metadata": {
        "id": "EcoxkvKoFngf"
      },
      "execution_count": null,
      "outputs": []
    },
    {
      "cell_type": "markdown",
      "source": [
        "### Preprocess Data"
      ],
      "metadata": {
        "id": "_QHl4DKzhvWD"
      }
    },
    {
      "cell_type": "code",
      "source": [
        "# drop the column 'response' and 'flags'. We won't use it for this question.\n",
        "df = df.drop(columns=['response', 'flags'])\n",
        "\n",
        "#Filter the dataset to only ORDER, PAYMENT, REFUND\n",
        "df = df[df['category'].isin(['ORDER', 'PAYMENT', 'REFUND'])]\n",
        "\n",
        "m = 5 # 5 each intent\n",
        "def sample_m_from_each_class(group, m):\n",
        "    if len(group) >= m:\n",
        "        return group.sample(m, random_state=42)  # DO NOT CHANGE random_state (seed)\n",
        "    else:\n",
        "        return group  # If the group has less than m samples, return all of them\n",
        "\n",
        "# Group by 'intent' and apply the sampling function\n",
        "sampled_df = df.groupby('intent').apply(sample_m_from_each_class, m=m).reset_index(drop=True)"
      ],
      "metadata": {
        "id": "KGCCv_w5hyzV"
      },
      "execution_count": null,
      "outputs": []
    },
    {
      "cell_type": "code",
      "source": [
        "# View the dataset\n",
        "sampled_df"
      ],
      "metadata": {
        "colab": {
          "base_uri": "https://localhost:8080/",
          "height": 670
        },
        "id": "sZiyxO91h2WK",
        "outputId": "f5430e79-7373-44a6-dbb9-9356813f1ca9"
      },
      "execution_count": null,
      "outputs": [
        {
          "output_type": "execute_result",
          "data": {
            "text/plain": [
              "                                          instruction category  \\\n",
              "0           I cannot afford purchase {{Order Number}}    ORDER   \n",
              "1   I have bought some item, I have to cancel orde...    ORDER   \n",
              "2   I do not want this item, cancel order {{Order ...    ORDER   \n",
              "3   I need assistance with canceling purchase {{Or...    ORDER   \n",
              "4         were can i cancel purchase {{Order Number}}    ORDER   \n",
              "5   I have to delete several items from purchase {...    ORDER   \n",
              "6                  updating purchase {{Order Number}}    ORDER   \n",
              "7                             update purchase00123842    ORDER   \n",
              "8   I want assistance editing purchase  {{Order Nu...    ORDER   \n",
              "9   I have to delete an item from order {{Order Nu...    ORDER   \n",
              "10      can I see what payment methods are available?  PAYMENT   \n",
              "11  I want assistance to check the goddamn payment...  PAYMENT   \n",
              "12  I don't know how I can list the allowed paymen...  PAYMENT   \n",
              "13      i want assistance to list the payment methods  PAYMENT   \n",
              "14         can you tell me your damn payment methods?  PAYMENT   \n",
              "15  I try to check in which situations can I ask f...   REFUND   \n",
              "16   need assistance to check ur reimbursement policy   REFUND   \n",
              "17  I need help seeing in which cases can I ask fo...   REFUND   \n",
              "18                      how to check ur refund policy   REFUND   \n",
              "19  need assistance seeing in which cases can i re...   REFUND   \n",
              "20  I paid {{Currency Symbol}}{{Refund Amount}} fo...   REFUND   \n",
              "21              I am trying to receive a compensation   REFUND   \n",
              "22  i need assistance demanding compensations of m...   REFUND   \n",
              "23             I try to ask fopr a refund of my money   REFUND   \n",
              "24     need assistance to obtain a refund of my money   REFUND   \n",
              "25  can you help me reporting problems with online...  PAYMENT   \n",
              "26  assistance to notify of issues with online pay...  PAYMENT   \n",
              "27  i cant make payments how to inform of issues w...  PAYMENT   \n",
              "28  I cannot make a payment, I want help to report...  PAYMENT   \n",
              "29          how do I notify of an issue with payment?  PAYMENT   \n",
              "30                 I want assistance doing a purchase    ORDER   \n",
              "31  I have to shop a few of your product, how coul...    ORDER   \n",
              "32                    I have to buy some of yout item    ORDER   \n",
              "33      need assistance purchasing some of ur article    ORDER   \n",
              "34    i dont know what i have to do to buy an article    ORDER   \n",
              "35  where to see the bloody ETA of the order {{Ord...    ORDER   \n",
              "36          checking status of order {{Order Number}}    ORDER   \n",
              "37       see purchase {{Order Number}} current status    ORDER   \n",
              "38        how can i see order {{Order Number}} status    ORDER   \n",
              "39      help seeing the ETA of order {{Order Number}}    ORDER   \n",
              "40  i expect a rebate of {{Currency Symbol}}{{Refu...   REFUND   \n",
              "41  I am waiting for a restitution of {{Currency S...   REFUND   \n",
              "42  I'm waiting for a restitution of {{Refund Amou...   REFUND   \n",
              "43  I want to know if there are any news on my refund   REFUND   \n",
              "44    I expect an refund of {{Refund Amount}} dollars   REFUND   \n",
              "\n",
              "                   intent  \n",
              "0            cancel_order  \n",
              "1            cancel_order  \n",
              "2            cancel_order  \n",
              "3            cancel_order  \n",
              "4            cancel_order  \n",
              "5            change_order  \n",
              "6            change_order  \n",
              "7            change_order  \n",
              "8            change_order  \n",
              "9            change_order  \n",
              "10  check_payment_methods  \n",
              "11  check_payment_methods  \n",
              "12  check_payment_methods  \n",
              "13  check_payment_methods  \n",
              "14  check_payment_methods  \n",
              "15    check_refund_policy  \n",
              "16    check_refund_policy  \n",
              "17    check_refund_policy  \n",
              "18    check_refund_policy  \n",
              "19    check_refund_policy  \n",
              "20             get_refund  \n",
              "21             get_refund  \n",
              "22             get_refund  \n",
              "23             get_refund  \n",
              "24             get_refund  \n",
              "25          payment_issue  \n",
              "26          payment_issue  \n",
              "27          payment_issue  \n",
              "28          payment_issue  \n",
              "29          payment_issue  \n",
              "30            place_order  \n",
              "31            place_order  \n",
              "32            place_order  \n",
              "33            place_order  \n",
              "34            place_order  \n",
              "35            track_order  \n",
              "36            track_order  \n",
              "37            track_order  \n",
              "38            track_order  \n",
              "39            track_order  \n",
              "40           track_refund  \n",
              "41           track_refund  \n",
              "42           track_refund  \n",
              "43           track_refund  \n",
              "44           track_refund  "
            ],
            "text/html": [
              "\n",
              "  <div id=\"df-af90583d-57e7-4ad1-86a8-b5ea4dfd624b\" class=\"colab-df-container\">\n",
              "    <div>\n",
              "<style scoped>\n",
              "    .dataframe tbody tr th:only-of-type {\n",
              "        vertical-align: middle;\n",
              "    }\n",
              "\n",
              "    .dataframe tbody tr th {\n",
              "        vertical-align: top;\n",
              "    }\n",
              "\n",
              "    .dataframe thead th {\n",
              "        text-align: right;\n",
              "    }\n",
              "</style>\n",
              "<table border=\"1\" class=\"dataframe\">\n",
              "  <thead>\n",
              "    <tr style=\"text-align: right;\">\n",
              "      <th></th>\n",
              "      <th>instruction</th>\n",
              "      <th>category</th>\n",
              "      <th>intent</th>\n",
              "    </tr>\n",
              "  </thead>\n",
              "  <tbody>\n",
              "    <tr>\n",
              "      <th>0</th>\n",
              "      <td>I cannot afford purchase {{Order Number}}</td>\n",
              "      <td>ORDER</td>\n",
              "      <td>cancel_order</td>\n",
              "    </tr>\n",
              "    <tr>\n",
              "      <th>1</th>\n",
              "      <td>I have bought some item, I have to cancel orde...</td>\n",
              "      <td>ORDER</td>\n",
              "      <td>cancel_order</td>\n",
              "    </tr>\n",
              "    <tr>\n",
              "      <th>2</th>\n",
              "      <td>I do not want this item, cancel order {{Order ...</td>\n",
              "      <td>ORDER</td>\n",
              "      <td>cancel_order</td>\n",
              "    </tr>\n",
              "    <tr>\n",
              "      <th>3</th>\n",
              "      <td>I need assistance with canceling purchase {{Or...</td>\n",
              "      <td>ORDER</td>\n",
              "      <td>cancel_order</td>\n",
              "    </tr>\n",
              "    <tr>\n",
              "      <th>4</th>\n",
              "      <td>were can i cancel purchase {{Order Number}}</td>\n",
              "      <td>ORDER</td>\n",
              "      <td>cancel_order</td>\n",
              "    </tr>\n",
              "    <tr>\n",
              "      <th>5</th>\n",
              "      <td>I have to delete several items from purchase {...</td>\n",
              "      <td>ORDER</td>\n",
              "      <td>change_order</td>\n",
              "    </tr>\n",
              "    <tr>\n",
              "      <th>6</th>\n",
              "      <td>updating purchase {{Order Number}}</td>\n",
              "      <td>ORDER</td>\n",
              "      <td>change_order</td>\n",
              "    </tr>\n",
              "    <tr>\n",
              "      <th>7</th>\n",
              "      <td>update purchase00123842</td>\n",
              "      <td>ORDER</td>\n",
              "      <td>change_order</td>\n",
              "    </tr>\n",
              "    <tr>\n",
              "      <th>8</th>\n",
              "      <td>I want assistance editing purchase  {{Order Nu...</td>\n",
              "      <td>ORDER</td>\n",
              "      <td>change_order</td>\n",
              "    </tr>\n",
              "    <tr>\n",
              "      <th>9</th>\n",
              "      <td>I have to delete an item from order {{Order Nu...</td>\n",
              "      <td>ORDER</td>\n",
              "      <td>change_order</td>\n",
              "    </tr>\n",
              "    <tr>\n",
              "      <th>10</th>\n",
              "      <td>can I see what payment methods are available?</td>\n",
              "      <td>PAYMENT</td>\n",
              "      <td>check_payment_methods</td>\n",
              "    </tr>\n",
              "    <tr>\n",
              "      <th>11</th>\n",
              "      <td>I want assistance to check the goddamn payment...</td>\n",
              "      <td>PAYMENT</td>\n",
              "      <td>check_payment_methods</td>\n",
              "    </tr>\n",
              "    <tr>\n",
              "      <th>12</th>\n",
              "      <td>I don't know how I can list the allowed paymen...</td>\n",
              "      <td>PAYMENT</td>\n",
              "      <td>check_payment_methods</td>\n",
              "    </tr>\n",
              "    <tr>\n",
              "      <th>13</th>\n",
              "      <td>i want assistance to list the payment methods</td>\n",
              "      <td>PAYMENT</td>\n",
              "      <td>check_payment_methods</td>\n",
              "    </tr>\n",
              "    <tr>\n",
              "      <th>14</th>\n",
              "      <td>can you tell me your damn payment methods?</td>\n",
              "      <td>PAYMENT</td>\n",
              "      <td>check_payment_methods</td>\n",
              "    </tr>\n",
              "    <tr>\n",
              "      <th>15</th>\n",
              "      <td>I try to check in which situations can I ask f...</td>\n",
              "      <td>REFUND</td>\n",
              "      <td>check_refund_policy</td>\n",
              "    </tr>\n",
              "    <tr>\n",
              "      <th>16</th>\n",
              "      <td>need assistance to check ur reimbursement policy</td>\n",
              "      <td>REFUND</td>\n",
              "      <td>check_refund_policy</td>\n",
              "    </tr>\n",
              "    <tr>\n",
              "      <th>17</th>\n",
              "      <td>I need help seeing in which cases can I ask fo...</td>\n",
              "      <td>REFUND</td>\n",
              "      <td>check_refund_policy</td>\n",
              "    </tr>\n",
              "    <tr>\n",
              "      <th>18</th>\n",
              "      <td>how to check ur refund policy</td>\n",
              "      <td>REFUND</td>\n",
              "      <td>check_refund_policy</td>\n",
              "    </tr>\n",
              "    <tr>\n",
              "      <th>19</th>\n",
              "      <td>need assistance seeing in which cases can i re...</td>\n",
              "      <td>REFUND</td>\n",
              "      <td>check_refund_policy</td>\n",
              "    </tr>\n",
              "    <tr>\n",
              "      <th>20</th>\n",
              "      <td>I paid {{Currency Symbol}}{{Refund Amount}} fo...</td>\n",
              "      <td>REFUND</td>\n",
              "      <td>get_refund</td>\n",
              "    </tr>\n",
              "    <tr>\n",
              "      <th>21</th>\n",
              "      <td>I am trying to receive a compensation</td>\n",
              "      <td>REFUND</td>\n",
              "      <td>get_refund</td>\n",
              "    </tr>\n",
              "    <tr>\n",
              "      <th>22</th>\n",
              "      <td>i need assistance demanding compensations of m...</td>\n",
              "      <td>REFUND</td>\n",
              "      <td>get_refund</td>\n",
              "    </tr>\n",
              "    <tr>\n",
              "      <th>23</th>\n",
              "      <td>I try to ask fopr a refund of my money</td>\n",
              "      <td>REFUND</td>\n",
              "      <td>get_refund</td>\n",
              "    </tr>\n",
              "    <tr>\n",
              "      <th>24</th>\n",
              "      <td>need assistance to obtain a refund of my money</td>\n",
              "      <td>REFUND</td>\n",
              "      <td>get_refund</td>\n",
              "    </tr>\n",
              "    <tr>\n",
              "      <th>25</th>\n",
              "      <td>can you help me reporting problems with online...</td>\n",
              "      <td>PAYMENT</td>\n",
              "      <td>payment_issue</td>\n",
              "    </tr>\n",
              "    <tr>\n",
              "      <th>26</th>\n",
              "      <td>assistance to notify of issues with online pay...</td>\n",
              "      <td>PAYMENT</td>\n",
              "      <td>payment_issue</td>\n",
              "    </tr>\n",
              "    <tr>\n",
              "      <th>27</th>\n",
              "      <td>i cant make payments how to inform of issues w...</td>\n",
              "      <td>PAYMENT</td>\n",
              "      <td>payment_issue</td>\n",
              "    </tr>\n",
              "    <tr>\n",
              "      <th>28</th>\n",
              "      <td>I cannot make a payment, I want help to report...</td>\n",
              "      <td>PAYMENT</td>\n",
              "      <td>payment_issue</td>\n",
              "    </tr>\n",
              "    <tr>\n",
              "      <th>29</th>\n",
              "      <td>how do I notify of an issue with payment?</td>\n",
              "      <td>PAYMENT</td>\n",
              "      <td>payment_issue</td>\n",
              "    </tr>\n",
              "    <tr>\n",
              "      <th>30</th>\n",
              "      <td>I want assistance doing a purchase</td>\n",
              "      <td>ORDER</td>\n",
              "      <td>place_order</td>\n",
              "    </tr>\n",
              "    <tr>\n",
              "      <th>31</th>\n",
              "      <td>I have to shop a few of your product, how coul...</td>\n",
              "      <td>ORDER</td>\n",
              "      <td>place_order</td>\n",
              "    </tr>\n",
              "    <tr>\n",
              "      <th>32</th>\n",
              "      <td>I have to buy some of yout item</td>\n",
              "      <td>ORDER</td>\n",
              "      <td>place_order</td>\n",
              "    </tr>\n",
              "    <tr>\n",
              "      <th>33</th>\n",
              "      <td>need assistance purchasing some of ur article</td>\n",
              "      <td>ORDER</td>\n",
              "      <td>place_order</td>\n",
              "    </tr>\n",
              "    <tr>\n",
              "      <th>34</th>\n",
              "      <td>i dont know what i have to do to buy an article</td>\n",
              "      <td>ORDER</td>\n",
              "      <td>place_order</td>\n",
              "    </tr>\n",
              "    <tr>\n",
              "      <th>35</th>\n",
              "      <td>where to see the bloody ETA of the order {{Ord...</td>\n",
              "      <td>ORDER</td>\n",
              "      <td>track_order</td>\n",
              "    </tr>\n",
              "    <tr>\n",
              "      <th>36</th>\n",
              "      <td>checking status of order {{Order Number}}</td>\n",
              "      <td>ORDER</td>\n",
              "      <td>track_order</td>\n",
              "    </tr>\n",
              "    <tr>\n",
              "      <th>37</th>\n",
              "      <td>see purchase {{Order Number}} current status</td>\n",
              "      <td>ORDER</td>\n",
              "      <td>track_order</td>\n",
              "    </tr>\n",
              "    <tr>\n",
              "      <th>38</th>\n",
              "      <td>how can i see order {{Order Number}} status</td>\n",
              "      <td>ORDER</td>\n",
              "      <td>track_order</td>\n",
              "    </tr>\n",
              "    <tr>\n",
              "      <th>39</th>\n",
              "      <td>help seeing the ETA of order {{Order Number}}</td>\n",
              "      <td>ORDER</td>\n",
              "      <td>track_order</td>\n",
              "    </tr>\n",
              "    <tr>\n",
              "      <th>40</th>\n",
              "      <td>i expect a rebate of {{Currency Symbol}}{{Refu...</td>\n",
              "      <td>REFUND</td>\n",
              "      <td>track_refund</td>\n",
              "    </tr>\n",
              "    <tr>\n",
              "      <th>41</th>\n",
              "      <td>I am waiting for a restitution of {{Currency S...</td>\n",
              "      <td>REFUND</td>\n",
              "      <td>track_refund</td>\n",
              "    </tr>\n",
              "    <tr>\n",
              "      <th>42</th>\n",
              "      <td>I'm waiting for a restitution of {{Refund Amou...</td>\n",
              "      <td>REFUND</td>\n",
              "      <td>track_refund</td>\n",
              "    </tr>\n",
              "    <tr>\n",
              "      <th>43</th>\n",
              "      <td>I want to know if there are any news on my refund</td>\n",
              "      <td>REFUND</td>\n",
              "      <td>track_refund</td>\n",
              "    </tr>\n",
              "    <tr>\n",
              "      <th>44</th>\n",
              "      <td>I expect an refund of {{Refund Amount}} dollars</td>\n",
              "      <td>REFUND</td>\n",
              "      <td>track_refund</td>\n",
              "    </tr>\n",
              "  </tbody>\n",
              "</table>\n",
              "</div>\n",
              "    <div class=\"colab-df-buttons\">\n",
              "\n",
              "  <div class=\"colab-df-container\">\n",
              "    <button class=\"colab-df-convert\" onclick=\"convertToInteractive('df-af90583d-57e7-4ad1-86a8-b5ea4dfd624b')\"\n",
              "            title=\"Convert this dataframe to an interactive table.\"\n",
              "            style=\"display:none;\">\n",
              "\n",
              "  <svg xmlns=\"http://www.w3.org/2000/svg\" height=\"24px\" viewBox=\"0 -960 960 960\">\n",
              "    <path d=\"M120-120v-720h720v720H120Zm60-500h600v-160H180v160Zm220 220h160v-160H400v160Zm0 220h160v-160H400v160ZM180-400h160v-160H180v160Zm440 0h160v-160H620v160ZM180-180h160v-160H180v160Zm440 0h160v-160H620v160Z\"/>\n",
              "  </svg>\n",
              "    </button>\n",
              "\n",
              "  <style>\n",
              "    .colab-df-container {\n",
              "      display:flex;\n",
              "      gap: 12px;\n",
              "    }\n",
              "\n",
              "    .colab-df-convert {\n",
              "      background-color: #E8F0FE;\n",
              "      border: none;\n",
              "      border-radius: 50%;\n",
              "      cursor: pointer;\n",
              "      display: none;\n",
              "      fill: #1967D2;\n",
              "      height: 32px;\n",
              "      padding: 0 0 0 0;\n",
              "      width: 32px;\n",
              "    }\n",
              "\n",
              "    .colab-df-convert:hover {\n",
              "      background-color: #E2EBFA;\n",
              "      box-shadow: 0px 1px 2px rgba(60, 64, 67, 0.3), 0px 1px 3px 1px rgba(60, 64, 67, 0.15);\n",
              "      fill: #174EA6;\n",
              "    }\n",
              "\n",
              "    .colab-df-buttons div {\n",
              "      margin-bottom: 4px;\n",
              "    }\n",
              "\n",
              "    [theme=dark] .colab-df-convert {\n",
              "      background-color: #3B4455;\n",
              "      fill: #D2E3FC;\n",
              "    }\n",
              "\n",
              "    [theme=dark] .colab-df-convert:hover {\n",
              "      background-color: #434B5C;\n",
              "      box-shadow: 0px 1px 3px 1px rgba(0, 0, 0, 0.15);\n",
              "      filter: drop-shadow(0px 1px 2px rgba(0, 0, 0, 0.3));\n",
              "      fill: #FFFFFF;\n",
              "    }\n",
              "  </style>\n",
              "\n",
              "    <script>\n",
              "      const buttonEl =\n",
              "        document.querySelector('#df-af90583d-57e7-4ad1-86a8-b5ea4dfd624b button.colab-df-convert');\n",
              "      buttonEl.style.display =\n",
              "        google.colab.kernel.accessAllowed ? 'block' : 'none';\n",
              "\n",
              "      async function convertToInteractive(key) {\n",
              "        const element = document.querySelector('#df-af90583d-57e7-4ad1-86a8-b5ea4dfd624b');\n",
              "        const dataTable =\n",
              "          await google.colab.kernel.invokeFunction('convertToInteractive',\n",
              "                                                    [key], {});\n",
              "        if (!dataTable) return;\n",
              "\n",
              "        const docLinkHtml = 'Like what you see? Visit the ' +\n",
              "          '<a target=\"_blank\" href=https://colab.research.google.com/notebooks/data_table.ipynb>data table notebook</a>'\n",
              "          + ' to learn more about interactive tables.';\n",
              "        element.innerHTML = '';\n",
              "        dataTable['output_type'] = 'display_data';\n",
              "        await google.colab.output.renderOutput(dataTable, element);\n",
              "        const docLink = document.createElement('div');\n",
              "        docLink.innerHTML = docLinkHtml;\n",
              "        element.appendChild(docLink);\n",
              "      }\n",
              "    </script>\n",
              "  </div>\n",
              "\n",
              "\n",
              "<div id=\"df-7614afb7-b577-4796-bb2e-6ff7efcbb437\">\n",
              "  <button class=\"colab-df-quickchart\" onclick=\"quickchart('df-7614afb7-b577-4796-bb2e-6ff7efcbb437')\"\n",
              "            title=\"Suggest charts\"\n",
              "            style=\"display:none;\">\n",
              "\n",
              "<svg xmlns=\"http://www.w3.org/2000/svg\" height=\"24px\"viewBox=\"0 0 24 24\"\n",
              "     width=\"24px\">\n",
              "    <g>\n",
              "        <path d=\"M19 3H5c-1.1 0-2 .9-2 2v14c0 1.1.9 2 2 2h14c1.1 0 2-.9 2-2V5c0-1.1-.9-2-2-2zM9 17H7v-7h2v7zm4 0h-2V7h2v10zm4 0h-2v-4h2v4z\"/>\n",
              "    </g>\n",
              "</svg>\n",
              "  </button>\n",
              "\n",
              "<style>\n",
              "  .colab-df-quickchart {\n",
              "      --bg-color: #E8F0FE;\n",
              "      --fill-color: #1967D2;\n",
              "      --hover-bg-color: #E2EBFA;\n",
              "      --hover-fill-color: #174EA6;\n",
              "      --disabled-fill-color: #AAA;\n",
              "      --disabled-bg-color: #DDD;\n",
              "  }\n",
              "\n",
              "  [theme=dark] .colab-df-quickchart {\n",
              "      --bg-color: #3B4455;\n",
              "      --fill-color: #D2E3FC;\n",
              "      --hover-bg-color: #434B5C;\n",
              "      --hover-fill-color: #FFFFFF;\n",
              "      --disabled-bg-color: #3B4455;\n",
              "      --disabled-fill-color: #666;\n",
              "  }\n",
              "\n",
              "  .colab-df-quickchart {\n",
              "    background-color: var(--bg-color);\n",
              "    border: none;\n",
              "    border-radius: 50%;\n",
              "    cursor: pointer;\n",
              "    display: none;\n",
              "    fill: var(--fill-color);\n",
              "    height: 32px;\n",
              "    padding: 0;\n",
              "    width: 32px;\n",
              "  }\n",
              "\n",
              "  .colab-df-quickchart:hover {\n",
              "    background-color: var(--hover-bg-color);\n",
              "    box-shadow: 0 1px 2px rgba(60, 64, 67, 0.3), 0 1px 3px 1px rgba(60, 64, 67, 0.15);\n",
              "    fill: var(--button-hover-fill-color);\n",
              "  }\n",
              "\n",
              "  .colab-df-quickchart-complete:disabled,\n",
              "  .colab-df-quickchart-complete:disabled:hover {\n",
              "    background-color: var(--disabled-bg-color);\n",
              "    fill: var(--disabled-fill-color);\n",
              "    box-shadow: none;\n",
              "  }\n",
              "\n",
              "  .colab-df-spinner {\n",
              "    border: 2px solid var(--fill-color);\n",
              "    border-color: transparent;\n",
              "    border-bottom-color: var(--fill-color);\n",
              "    animation:\n",
              "      spin 1s steps(1) infinite;\n",
              "  }\n",
              "\n",
              "  @keyframes spin {\n",
              "    0% {\n",
              "      border-color: transparent;\n",
              "      border-bottom-color: var(--fill-color);\n",
              "      border-left-color: var(--fill-color);\n",
              "    }\n",
              "    20% {\n",
              "      border-color: transparent;\n",
              "      border-left-color: var(--fill-color);\n",
              "      border-top-color: var(--fill-color);\n",
              "    }\n",
              "    30% {\n",
              "      border-color: transparent;\n",
              "      border-left-color: var(--fill-color);\n",
              "      border-top-color: var(--fill-color);\n",
              "      border-right-color: var(--fill-color);\n",
              "    }\n",
              "    40% {\n",
              "      border-color: transparent;\n",
              "      border-right-color: var(--fill-color);\n",
              "      border-top-color: var(--fill-color);\n",
              "    }\n",
              "    60% {\n",
              "      border-color: transparent;\n",
              "      border-right-color: var(--fill-color);\n",
              "    }\n",
              "    80% {\n",
              "      border-color: transparent;\n",
              "      border-right-color: var(--fill-color);\n",
              "      border-bottom-color: var(--fill-color);\n",
              "    }\n",
              "    90% {\n",
              "      border-color: transparent;\n",
              "      border-bottom-color: var(--fill-color);\n",
              "    }\n",
              "  }\n",
              "</style>\n",
              "\n",
              "  <script>\n",
              "    async function quickchart(key) {\n",
              "      const quickchartButtonEl =\n",
              "        document.querySelector('#' + key + ' button');\n",
              "      quickchartButtonEl.disabled = true;  // To prevent multiple clicks.\n",
              "      quickchartButtonEl.classList.add('colab-df-spinner');\n",
              "      try {\n",
              "        const charts = await google.colab.kernel.invokeFunction(\n",
              "            'suggestCharts', [key], {});\n",
              "      } catch (error) {\n",
              "        console.error('Error during call to suggestCharts:', error);\n",
              "      }\n",
              "      quickchartButtonEl.classList.remove('colab-df-spinner');\n",
              "      quickchartButtonEl.classList.add('colab-df-quickchart-complete');\n",
              "    }\n",
              "    (() => {\n",
              "      let quickchartButtonEl =\n",
              "        document.querySelector('#df-7614afb7-b577-4796-bb2e-6ff7efcbb437 button');\n",
              "      quickchartButtonEl.style.display =\n",
              "        google.colab.kernel.accessAllowed ? 'block' : 'none';\n",
              "    })();\n",
              "  </script>\n",
              "</div>\n",
              "\n",
              "  <div id=\"id_1b53d104-5ce8-4329-8dd9-32e4d34feeb7\">\n",
              "    <style>\n",
              "      .colab-df-generate {\n",
              "        background-color: #E8F0FE;\n",
              "        border: none;\n",
              "        border-radius: 50%;\n",
              "        cursor: pointer;\n",
              "        display: none;\n",
              "        fill: #1967D2;\n",
              "        height: 32px;\n",
              "        padding: 0 0 0 0;\n",
              "        width: 32px;\n",
              "      }\n",
              "\n",
              "      .colab-df-generate:hover {\n",
              "        background-color: #E2EBFA;\n",
              "        box-shadow: 0px 1px 2px rgba(60, 64, 67, 0.3), 0px 1px 3px 1px rgba(60, 64, 67, 0.15);\n",
              "        fill: #174EA6;\n",
              "      }\n",
              "\n",
              "      [theme=dark] .colab-df-generate {\n",
              "        background-color: #3B4455;\n",
              "        fill: #D2E3FC;\n",
              "      }\n",
              "\n",
              "      [theme=dark] .colab-df-generate:hover {\n",
              "        background-color: #434B5C;\n",
              "        box-shadow: 0px 1px 3px 1px rgba(0, 0, 0, 0.15);\n",
              "        filter: drop-shadow(0px 1px 2px rgba(0, 0, 0, 0.3));\n",
              "        fill: #FFFFFF;\n",
              "      }\n",
              "    </style>\n",
              "    <button class=\"colab-df-generate\" onclick=\"generateWithVariable('sampled_df')\"\n",
              "            title=\"Generate code using this dataframe.\"\n",
              "            style=\"display:none;\">\n",
              "\n",
              "  <svg xmlns=\"http://www.w3.org/2000/svg\" height=\"24px\"viewBox=\"0 0 24 24\"\n",
              "       width=\"24px\">\n",
              "    <path d=\"M7,19H8.4L18.45,9,17,7.55,7,17.6ZM5,21V16.75L18.45,3.32a2,2,0,0,1,2.83,0l1.4,1.43a1.91,1.91,0,0,1,.58,1.4,1.91,1.91,0,0,1-.58,1.4L9.25,21ZM18.45,9,17,7.55Zm-12,3A5.31,5.31,0,0,0,4.9,8.1,5.31,5.31,0,0,0,1,6.5,5.31,5.31,0,0,0,4.9,4.9,5.31,5.31,0,0,0,6.5,1,5.31,5.31,0,0,0,8.1,4.9,5.31,5.31,0,0,0,12,6.5,5.46,5.46,0,0,0,6.5,12Z\"/>\n",
              "  </svg>\n",
              "    </button>\n",
              "    <script>\n",
              "      (() => {\n",
              "      const buttonEl =\n",
              "        document.querySelector('#id_1b53d104-5ce8-4329-8dd9-32e4d34feeb7 button.colab-df-generate');\n",
              "      buttonEl.style.display =\n",
              "        google.colab.kernel.accessAllowed ? 'block' : 'none';\n",
              "\n",
              "      buttonEl.onclick = () => {\n",
              "        google.colab.notebook.generateWithVariable('sampled_df');\n",
              "      }\n",
              "      })();\n",
              "    </script>\n",
              "  </div>\n",
              "\n",
              "    </div>\n",
              "  </div>\n"
            ],
            "application/vnd.google.colaboratory.intrinsic+json": {
              "type": "dataframe",
              "variable_name": "sampled_df",
              "summary": "{\n  \"name\": \"sampled_df\",\n  \"rows\": 45,\n  \"fields\": [\n    {\n      \"column\": \"instruction\",\n      \"properties\": {\n        \"dtype\": \"string\",\n        \"num_unique_values\": 45,\n        \"samples\": [\n          \"help seeing the ETA of order {{Order Number}}\",\n          \"can you help me reporting problems with online payment?\",\n          \"assistance to notify of issues with online payments\"\n        ],\n        \"semantic_type\": \"\",\n        \"description\": \"\"\n      }\n    },\n    {\n      \"column\": \"category\",\n      \"properties\": {\n        \"dtype\": \"category\",\n        \"num_unique_values\": 3,\n        \"samples\": [\n          \"ORDER\",\n          \"PAYMENT\",\n          \"REFUND\"\n        ],\n        \"semantic_type\": \"\",\n        \"description\": \"\"\n      }\n    },\n    {\n      \"column\": \"intent\",\n      \"properties\": {\n        \"dtype\": \"category\",\n        \"num_unique_values\": 9,\n        \"samples\": [\n          \"track_order\",\n          \"change_order\",\n          \"payment_issue\"\n        ],\n        \"semantic_type\": \"\",\n        \"description\": \"\"\n      }\n    }\n  ]\n}"
            },
            "application/vnd.google.colaboratory.module+javascript": "\n      import \"https://ssl.gstatic.com/colaboratory/data_table/f565ec32c7e6656f/data_table.js\";\n\n      const table = window.createDataTable({\n        data: [[{\n            'v': 0,\n            'f': \"0\",\n        },\n\"I cannot afford purchase {{Order Number}}\",\n\"ORDER\",\n\"cancel_order\"],\n [{\n            'v': 1,\n            'f': \"1\",\n        },\n\"I have bought some item, I have to cancel order {{Order Number}}\",\n\"ORDER\",\n\"cancel_order\"],\n [{\n            'v': 2,\n            'f': \"2\",\n        },\n\"I do not want this item, cancel order {{Order Number}}\",\n\"ORDER\",\n\"cancel_order\"],\n [{\n            'v': 3,\n            'f': \"3\",\n        },\n\"I need assistance with canceling purchase {{Order Number}}\",\n\"ORDER\",\n\"cancel_order\"],\n [{\n            'v': 4,\n            'f': \"4\",\n        },\n\"were can i cancel purchase {{Order Number}}\",\n\"ORDER\",\n\"cancel_order\"],\n [{\n            'v': 5,\n            'f': \"5\",\n        },\n\"I have to delete several items from purchase {{Order Number}}\",\n\"ORDER\",\n\"change_order\"],\n [{\n            'v': 6,\n            'f': \"6\",\n        },\n\"updating purchase {{Order Number}}\",\n\"ORDER\",\n\"change_order\"],\n [{\n            'v': 7,\n            'f': \"7\",\n        },\n\"update purchase00123842\",\n\"ORDER\",\n\"change_order\"],\n [{\n            'v': 8,\n            'f': \"8\",\n        },\n\"I want assistance editing purchase  {{Order Number}}\",\n\"ORDER\",\n\"change_order\"],\n [{\n            'v': 9,\n            'f': \"9\",\n        },\n\"I have to delete an item from order {{Order Number}}\",\n\"ORDER\",\n\"change_order\"],\n [{\n            'v': 10,\n            'f': \"10\",\n        },\n\"can I see what payment methods are available?\",\n\"PAYMENT\",\n\"check_payment_methods\"],\n [{\n            'v': 11,\n            'f': \"11\",\n        },\n\"I want assistance to check the goddamn payment methods\",\n\"PAYMENT\",\n\"check_payment_methods\"],\n [{\n            'v': 12,\n            'f': \"12\",\n        },\n\"I don't know how I can list the allowed payment methods\",\n\"PAYMENT\",\n\"check_payment_methods\"],\n [{\n            'v': 13,\n            'f': \"13\",\n        },\n\"i want assistance to list the payment methods\",\n\"PAYMENT\",\n\"check_payment_methods\"],\n [{\n            'v': 14,\n            'f': \"14\",\n        },\n\"can you tell me your damn payment methods?\",\n\"PAYMENT\",\n\"check_payment_methods\"],\n [{\n            'v': 15,\n            'f': \"15\",\n        },\n\"I try to check in which situations can I ask for a refund\",\n\"REFUND\",\n\"check_refund_policy\"],\n [{\n            'v': 16,\n            'f': \"16\",\n        },\n\"need assistance to check ur reimbursement policy\",\n\"REFUND\",\n\"check_refund_policy\"],\n [{\n            'v': 17,\n            'f': \"17\",\n        },\n\"I need help seeing in which cases can I ask for a reufnd\",\n\"REFUND\",\n\"check_refund_policy\"],\n [{\n            'v': 18,\n            'f': \"18\",\n        },\n\"how to check ur refund policy\",\n\"REFUND\",\n\"check_refund_policy\"],\n [{\n            'v': 19,\n            'f': \"19\",\n        },\n\"need assistance seeing in which cases can i request a refund\",\n\"REFUND\",\n\"check_refund_policy\"],\n [{\n            'v': 20,\n            'f': \"20\",\n        },\n\"I paid {{Currency Symbol}}{{Refund Amount}} for this product, I need to get a rebate\",\n\"REFUND\",\n\"get_refund\"],\n [{\n            'v': 21,\n            'f': \"21\",\n        },\n\"I am trying to receive a compensation\",\n\"REFUND\",\n\"get_refund\"],\n [{\n            'v': 22,\n            'f': \"22\",\n        },\n\"i need assistance demanding compensations of my money\",\n\"REFUND\",\n\"get_refund\"],\n [{\n            'v': 23,\n            'f': \"23\",\n        },\n\"I try to ask fopr a refund of my money\",\n\"REFUND\",\n\"get_refund\"],\n [{\n            'v': 24,\n            'f': \"24\",\n        },\n\"need assistance to obtain a refund of my money\",\n\"REFUND\",\n\"get_refund\"],\n [{\n            'v': 25,\n            'f': \"25\",\n        },\n\"can you help me reporting problems with online payment?\",\n\"PAYMENT\",\n\"payment_issue\"],\n [{\n            'v': 26,\n            'f': \"26\",\n        },\n\"assistance to notify of issues with online payments\",\n\"PAYMENT\",\n\"payment_issue\"],\n [{\n            'v': 27,\n            'f': \"27\",\n        },\n\"i cant make payments how to inform of issues with payment\",\n\"PAYMENT\",\n\"payment_issue\"],\n [{\n            'v': 28,\n            'f': \"28\",\n        },\n\"I cannot make a payment, I want help to report a problem\",\n\"PAYMENT\",\n\"payment_issue\"],\n [{\n            'v': 29,\n            'f': \"29\",\n        },\n\"how do I notify of an issue with payment?\",\n\"PAYMENT\",\n\"payment_issue\"],\n [{\n            'v': 30,\n            'f': \"30\",\n        },\n\"I want assistance doing a purchase\",\n\"ORDER\",\n\"place_order\"],\n [{\n            'v': 31,\n            'f': \"31\",\n        },\n\"I have to shop a few of your product, how could I do it?\",\n\"ORDER\",\n\"place_order\"],\n [{\n            'v': 32,\n            'f': \"32\",\n        },\n\"I have to buy some of yout item\",\n\"ORDER\",\n\"place_order\"],\n [{\n            'v': 33,\n            'f': \"33\",\n        },\n\"need assistance purchasing some of ur article\",\n\"ORDER\",\n\"place_order\"],\n [{\n            'v': 34,\n            'f': \"34\",\n        },\n\"i dont know what i have to do to buy an article\",\n\"ORDER\",\n\"place_order\"],\n [{\n            'v': 35,\n            'f': \"35\",\n        },\n\"where to see the bloody ETA of the order {{Order Number}}\",\n\"ORDER\",\n\"track_order\"],\n [{\n            'v': 36,\n            'f': \"36\",\n        },\n\"checking status of order {{Order Number}}\",\n\"ORDER\",\n\"track_order\"],\n [{\n            'v': 37,\n            'f': \"37\",\n        },\n\"see purchase {{Order Number}} current status\",\n\"ORDER\",\n\"track_order\"],\n [{\n            'v': 38,\n            'f': \"38\",\n        },\n\"how can i see order {{Order Number}} status\",\n\"ORDER\",\n\"track_order\"],\n [{\n            'v': 39,\n            'f': \"39\",\n        },\n\"help seeing the ETA of order {{Order Number}}\",\n\"ORDER\",\n\"track_order\"],\n [{\n            'v': 40,\n            'f': \"40\",\n        },\n\"i expect a rebate of {{Currency Symbol}}{{Refund Amount}}\",\n\"REFUND\",\n\"track_refund\"],\n [{\n            'v': 41,\n            'f': \"41\",\n        },\n\"I am waiting for a restitution of {{Currency Symbol}}{{Refund Amount}}\",\n\"REFUND\",\n\"track_refund\"],\n [{\n            'v': 42,\n            'f': \"42\",\n        },\n\"I'm waiting for a restitution of {{Refund Amount}} dollars\",\n\"REFUND\",\n\"track_refund\"],\n [{\n            'v': 43,\n            'f': \"43\",\n        },\n\"I want to know if there are any news on my refund\",\n\"REFUND\",\n\"track_refund\"],\n [{\n            'v': 44,\n            'f': \"44\",\n        },\n\"I expect an refund of {{Refund Amount}} dollars\",\n\"REFUND\",\n\"track_refund\"]],\n        columns: [[\"number\", \"index\"], [\"string\", \"instruction\"], [\"string\", \"category\"], [\"string\", \"intent\"]],\n        columnOptions: [{\"width\": \"1px\", \"className\": \"index_column\"}],\n        rowsPerPage: 25,\n        helpUrl: \"https://colab.research.google.com/notebooks/data_table.ipynb\",\n        suppressOutputScrolling: true,\n        minimumWidth: undefined,\n      });\n\n      function appendQuickchartButton(parentElement) {\n        let quickchartButtonContainerElement = document.createElement('div');\n        quickchartButtonContainerElement.innerHTML = `\n<div id=\"df-2c903161-ca42-4b9c-9047-0db9e4f17dfc\">\n  <button class=\"colab-df-quickchart\" onclick=\"quickchart('df-2c903161-ca42-4b9c-9047-0db9e4f17dfc')\"\n            title=\"Suggest charts\"\n            style=\"display:none;\">\n    \n<svg xmlns=\"http://www.w3.org/2000/svg\" height=\"24px\"viewBox=\"0 0 24 24\"\n     width=\"24px\">\n    <g>\n        <path d=\"M19 3H5c-1.1 0-2 .9-2 2v14c0 1.1.9 2 2 2h14c1.1 0 2-.9 2-2V5c0-1.1-.9-2-2-2zM9 17H7v-7h2v7zm4 0h-2V7h2v10zm4 0h-2v-4h2v4z\"/>\n    </g>\n</svg>\n  </button>\n  \n<style>\n  .colab-df-quickchart {\n      --bg-color: #E8F0FE;\n      --fill-color: #1967D2;\n      --hover-bg-color: #E2EBFA;\n      --hover-fill-color: #174EA6;\n      --disabled-fill-color: #AAA;\n      --disabled-bg-color: #DDD;\n  }\n\n  [theme=dark] .colab-df-quickchart {\n      --bg-color: #3B4455;\n      --fill-color: #D2E3FC;\n      --hover-bg-color: #434B5C;\n      --hover-fill-color: #FFFFFF;\n      --disabled-bg-color: #3B4455;\n      --disabled-fill-color: #666;\n  }\n\n  .colab-df-quickchart {\n    background-color: var(--bg-color);\n    border: none;\n    border-radius: 50%;\n    cursor: pointer;\n    display: none;\n    fill: var(--fill-color);\n    height: 32px;\n    padding: 0;\n    width: 32px;\n  }\n\n  .colab-df-quickchart:hover {\n    background-color: var(--hover-bg-color);\n    box-shadow: 0 1px 2px rgba(60, 64, 67, 0.3), 0 1px 3px 1px rgba(60, 64, 67, 0.15);\n    fill: var(--button-hover-fill-color);\n  }\n\n  .colab-df-quickchart-complete:disabled,\n  .colab-df-quickchart-complete:disabled:hover {\n    background-color: var(--disabled-bg-color);\n    fill: var(--disabled-fill-color);\n    box-shadow: none;\n  }\n\n  .colab-df-spinner {\n    border: 2px solid var(--fill-color);\n    border-color: transparent;\n    border-bottom-color: var(--fill-color);\n    animation:\n      spin 1s steps(1) infinite;\n  }\n\n  @keyframes spin {\n    0% {\n      border-color: transparent;\n      border-bottom-color: var(--fill-color);\n      border-left-color: var(--fill-color);\n    }\n    20% {\n      border-color: transparent;\n      border-left-color: var(--fill-color);\n      border-top-color: var(--fill-color);\n    }\n    30% {\n      border-color: transparent;\n      border-left-color: var(--fill-color);\n      border-top-color: var(--fill-color);\n      border-right-color: var(--fill-color);\n    }\n    40% {\n      border-color: transparent;\n      border-right-color: var(--fill-color);\n      border-top-color: var(--fill-color);\n    }\n    60% {\n      border-color: transparent;\n      border-right-color: var(--fill-color);\n    }\n    80% {\n      border-color: transparent;\n      border-right-color: var(--fill-color);\n      border-bottom-color: var(--fill-color);\n    }\n    90% {\n      border-color: transparent;\n      border-bottom-color: var(--fill-color);\n    }\n  }\n</style>\n\n  <script>\n    async function quickchart(key) {\n      const quickchartButtonEl =\n        document.querySelector('#' + key + ' button');\n      quickchartButtonEl.disabled = true;  // To prevent multiple clicks.\n      quickchartButtonEl.classList.add('colab-df-spinner');\n      try {\n        const charts = await google.colab.kernel.invokeFunction(\n            'suggestCharts', [key], {});\n      } catch (error) {\n        console.error('Error during call to suggestCharts:', error);\n      }\n      quickchartButtonEl.classList.remove('colab-df-spinner');\n      quickchartButtonEl.classList.add('colab-df-quickchart-complete');\n    }\n    (() => {\n      let quickchartButtonEl =\n        document.querySelector('#df-2c903161-ca42-4b9c-9047-0db9e4f17dfc button');\n      quickchartButtonEl.style.display =\n        google.colab.kernel.accessAllowed ? 'block' : 'none';\n    })();\n  </script>\n</div>`;\n        parentElement.appendChild(quickchartButtonContainerElement);\n      }\n\n      appendQuickchartButton(table);\n    "
          },
          "metadata": {},
          "execution_count": 10
        }
      ]
    },
    {
      "cell_type": "code",
      "source": [
        "# There are 3 categories and 9 intents\n",
        "pd.crosstab(sampled_df['intent'], sampled_df['category'])"
      ],
      "metadata": {
        "colab": {
          "base_uri": "https://localhost:8080/",
          "height": 316
        },
        "id": "cjAH9lTHh3XE",
        "outputId": "808b0445-5e7b-4a36-bdcf-4f1aa83ad459"
      },
      "execution_count": null,
      "outputs": [
        {
          "output_type": "execute_result",
          "data": {
            "text/plain": [
              "category               ORDER  PAYMENT  REFUND\n",
              "intent                                       \n",
              "cancel_order               5        0       0\n",
              "change_order               5        0       0\n",
              "check_payment_methods      0        5       0\n",
              "check_refund_policy        0        0       5\n",
              "get_refund                 0        0       5\n",
              "payment_issue              0        5       0\n",
              "place_order                5        0       0\n",
              "track_order                5        0       0\n",
              "track_refund               0        0       5"
            ],
            "text/html": [
              "\n",
              "  <div id=\"df-361f0c1e-4aad-47c2-9a47-8db5118e0265\" class=\"colab-df-container\">\n",
              "    <div>\n",
              "<style scoped>\n",
              "    .dataframe tbody tr th:only-of-type {\n",
              "        vertical-align: middle;\n",
              "    }\n",
              "\n",
              "    .dataframe tbody tr th {\n",
              "        vertical-align: top;\n",
              "    }\n",
              "\n",
              "    .dataframe thead th {\n",
              "        text-align: right;\n",
              "    }\n",
              "</style>\n",
              "<table border=\"1\" class=\"dataframe\">\n",
              "  <thead>\n",
              "    <tr style=\"text-align: right;\">\n",
              "      <th>category</th>\n",
              "      <th>ORDER</th>\n",
              "      <th>PAYMENT</th>\n",
              "      <th>REFUND</th>\n",
              "    </tr>\n",
              "    <tr>\n",
              "      <th>intent</th>\n",
              "      <th></th>\n",
              "      <th></th>\n",
              "      <th></th>\n",
              "    </tr>\n",
              "  </thead>\n",
              "  <tbody>\n",
              "    <tr>\n",
              "      <th>cancel_order</th>\n",
              "      <td>5</td>\n",
              "      <td>0</td>\n",
              "      <td>0</td>\n",
              "    </tr>\n",
              "    <tr>\n",
              "      <th>change_order</th>\n",
              "      <td>5</td>\n",
              "      <td>0</td>\n",
              "      <td>0</td>\n",
              "    </tr>\n",
              "    <tr>\n",
              "      <th>check_payment_methods</th>\n",
              "      <td>0</td>\n",
              "      <td>5</td>\n",
              "      <td>0</td>\n",
              "    </tr>\n",
              "    <tr>\n",
              "      <th>check_refund_policy</th>\n",
              "      <td>0</td>\n",
              "      <td>0</td>\n",
              "      <td>5</td>\n",
              "    </tr>\n",
              "    <tr>\n",
              "      <th>get_refund</th>\n",
              "      <td>0</td>\n",
              "      <td>0</td>\n",
              "      <td>5</td>\n",
              "    </tr>\n",
              "    <tr>\n",
              "      <th>payment_issue</th>\n",
              "      <td>0</td>\n",
              "      <td>5</td>\n",
              "      <td>0</td>\n",
              "    </tr>\n",
              "    <tr>\n",
              "      <th>place_order</th>\n",
              "      <td>5</td>\n",
              "      <td>0</td>\n",
              "      <td>0</td>\n",
              "    </tr>\n",
              "    <tr>\n",
              "      <th>track_order</th>\n",
              "      <td>5</td>\n",
              "      <td>0</td>\n",
              "      <td>0</td>\n",
              "    </tr>\n",
              "    <tr>\n",
              "      <th>track_refund</th>\n",
              "      <td>0</td>\n",
              "      <td>0</td>\n",
              "      <td>5</td>\n",
              "    </tr>\n",
              "  </tbody>\n",
              "</table>\n",
              "</div>\n",
              "    <div class=\"colab-df-buttons\">\n",
              "\n",
              "  <div class=\"colab-df-container\">\n",
              "    <button class=\"colab-df-convert\" onclick=\"convertToInteractive('df-361f0c1e-4aad-47c2-9a47-8db5118e0265')\"\n",
              "            title=\"Convert this dataframe to an interactive table.\"\n",
              "            style=\"display:none;\">\n",
              "\n",
              "  <svg xmlns=\"http://www.w3.org/2000/svg\" height=\"24px\" viewBox=\"0 -960 960 960\">\n",
              "    <path d=\"M120-120v-720h720v720H120Zm60-500h600v-160H180v160Zm220 220h160v-160H400v160Zm0 220h160v-160H400v160ZM180-400h160v-160H180v160Zm440 0h160v-160H620v160ZM180-180h160v-160H180v160Zm440 0h160v-160H620v160Z\"/>\n",
              "  </svg>\n",
              "    </button>\n",
              "\n",
              "  <style>\n",
              "    .colab-df-container {\n",
              "      display:flex;\n",
              "      gap: 12px;\n",
              "    }\n",
              "\n",
              "    .colab-df-convert {\n",
              "      background-color: #E8F0FE;\n",
              "      border: none;\n",
              "      border-radius: 50%;\n",
              "      cursor: pointer;\n",
              "      display: none;\n",
              "      fill: #1967D2;\n",
              "      height: 32px;\n",
              "      padding: 0 0 0 0;\n",
              "      width: 32px;\n",
              "    }\n",
              "\n",
              "    .colab-df-convert:hover {\n",
              "      background-color: #E2EBFA;\n",
              "      box-shadow: 0px 1px 2px rgba(60, 64, 67, 0.3), 0px 1px 3px 1px rgba(60, 64, 67, 0.15);\n",
              "      fill: #174EA6;\n",
              "    }\n",
              "\n",
              "    .colab-df-buttons div {\n",
              "      margin-bottom: 4px;\n",
              "    }\n",
              "\n",
              "    [theme=dark] .colab-df-convert {\n",
              "      background-color: #3B4455;\n",
              "      fill: #D2E3FC;\n",
              "    }\n",
              "\n",
              "    [theme=dark] .colab-df-convert:hover {\n",
              "      background-color: #434B5C;\n",
              "      box-shadow: 0px 1px 3px 1px rgba(0, 0, 0, 0.15);\n",
              "      filter: drop-shadow(0px 1px 2px rgba(0, 0, 0, 0.3));\n",
              "      fill: #FFFFFF;\n",
              "    }\n",
              "  </style>\n",
              "\n",
              "    <script>\n",
              "      const buttonEl =\n",
              "        document.querySelector('#df-361f0c1e-4aad-47c2-9a47-8db5118e0265 button.colab-df-convert');\n",
              "      buttonEl.style.display =\n",
              "        google.colab.kernel.accessAllowed ? 'block' : 'none';\n",
              "\n",
              "      async function convertToInteractive(key) {\n",
              "        const element = document.querySelector('#df-361f0c1e-4aad-47c2-9a47-8db5118e0265');\n",
              "        const dataTable =\n",
              "          await google.colab.kernel.invokeFunction('convertToInteractive',\n",
              "                                                    [key], {});\n",
              "        if (!dataTable) return;\n",
              "\n",
              "        const docLinkHtml = 'Like what you see? Visit the ' +\n",
              "          '<a target=\"_blank\" href=https://colab.research.google.com/notebooks/data_table.ipynb>data table notebook</a>'\n",
              "          + ' to learn more about interactive tables.';\n",
              "        element.innerHTML = '';\n",
              "        dataTable['output_type'] = 'display_data';\n",
              "        await google.colab.output.renderOutput(dataTable, element);\n",
              "        const docLink = document.createElement('div');\n",
              "        docLink.innerHTML = docLinkHtml;\n",
              "        element.appendChild(docLink);\n",
              "      }\n",
              "    </script>\n",
              "  </div>\n",
              "\n",
              "\n",
              "<div id=\"df-4c5fd0f3-c685-4e12-aa19-621551ceee8e\">\n",
              "  <button class=\"colab-df-quickchart\" onclick=\"quickchart('df-4c5fd0f3-c685-4e12-aa19-621551ceee8e')\"\n",
              "            title=\"Suggest charts\"\n",
              "            style=\"display:none;\">\n",
              "\n",
              "<svg xmlns=\"http://www.w3.org/2000/svg\" height=\"24px\"viewBox=\"0 0 24 24\"\n",
              "     width=\"24px\">\n",
              "    <g>\n",
              "        <path d=\"M19 3H5c-1.1 0-2 .9-2 2v14c0 1.1.9 2 2 2h14c1.1 0 2-.9 2-2V5c0-1.1-.9-2-2-2zM9 17H7v-7h2v7zm4 0h-2V7h2v10zm4 0h-2v-4h2v4z\"/>\n",
              "    </g>\n",
              "</svg>\n",
              "  </button>\n",
              "\n",
              "<style>\n",
              "  .colab-df-quickchart {\n",
              "      --bg-color: #E8F0FE;\n",
              "      --fill-color: #1967D2;\n",
              "      --hover-bg-color: #E2EBFA;\n",
              "      --hover-fill-color: #174EA6;\n",
              "      --disabled-fill-color: #AAA;\n",
              "      --disabled-bg-color: #DDD;\n",
              "  }\n",
              "\n",
              "  [theme=dark] .colab-df-quickchart {\n",
              "      --bg-color: #3B4455;\n",
              "      --fill-color: #D2E3FC;\n",
              "      --hover-bg-color: #434B5C;\n",
              "      --hover-fill-color: #FFFFFF;\n",
              "      --disabled-bg-color: #3B4455;\n",
              "      --disabled-fill-color: #666;\n",
              "  }\n",
              "\n",
              "  .colab-df-quickchart {\n",
              "    background-color: var(--bg-color);\n",
              "    border: none;\n",
              "    border-radius: 50%;\n",
              "    cursor: pointer;\n",
              "    display: none;\n",
              "    fill: var(--fill-color);\n",
              "    height: 32px;\n",
              "    padding: 0;\n",
              "    width: 32px;\n",
              "  }\n",
              "\n",
              "  .colab-df-quickchart:hover {\n",
              "    background-color: var(--hover-bg-color);\n",
              "    box-shadow: 0 1px 2px rgba(60, 64, 67, 0.3), 0 1px 3px 1px rgba(60, 64, 67, 0.15);\n",
              "    fill: var(--button-hover-fill-color);\n",
              "  }\n",
              "\n",
              "  .colab-df-quickchart-complete:disabled,\n",
              "  .colab-df-quickchart-complete:disabled:hover {\n",
              "    background-color: var(--disabled-bg-color);\n",
              "    fill: var(--disabled-fill-color);\n",
              "    box-shadow: none;\n",
              "  }\n",
              "\n",
              "  .colab-df-spinner {\n",
              "    border: 2px solid var(--fill-color);\n",
              "    border-color: transparent;\n",
              "    border-bottom-color: var(--fill-color);\n",
              "    animation:\n",
              "      spin 1s steps(1) infinite;\n",
              "  }\n",
              "\n",
              "  @keyframes spin {\n",
              "    0% {\n",
              "      border-color: transparent;\n",
              "      border-bottom-color: var(--fill-color);\n",
              "      border-left-color: var(--fill-color);\n",
              "    }\n",
              "    20% {\n",
              "      border-color: transparent;\n",
              "      border-left-color: var(--fill-color);\n",
              "      border-top-color: var(--fill-color);\n",
              "    }\n",
              "    30% {\n",
              "      border-color: transparent;\n",
              "      border-left-color: var(--fill-color);\n",
              "      border-top-color: var(--fill-color);\n",
              "      border-right-color: var(--fill-color);\n",
              "    }\n",
              "    40% {\n",
              "      border-color: transparent;\n",
              "      border-right-color: var(--fill-color);\n",
              "      border-top-color: var(--fill-color);\n",
              "    }\n",
              "    60% {\n",
              "      border-color: transparent;\n",
              "      border-right-color: var(--fill-color);\n",
              "    }\n",
              "    80% {\n",
              "      border-color: transparent;\n",
              "      border-right-color: var(--fill-color);\n",
              "      border-bottom-color: var(--fill-color);\n",
              "    }\n",
              "    90% {\n",
              "      border-color: transparent;\n",
              "      border-bottom-color: var(--fill-color);\n",
              "    }\n",
              "  }\n",
              "</style>\n",
              "\n",
              "  <script>\n",
              "    async function quickchart(key) {\n",
              "      const quickchartButtonEl =\n",
              "        document.querySelector('#' + key + ' button');\n",
              "      quickchartButtonEl.disabled = true;  // To prevent multiple clicks.\n",
              "      quickchartButtonEl.classList.add('colab-df-spinner');\n",
              "      try {\n",
              "        const charts = await google.colab.kernel.invokeFunction(\n",
              "            'suggestCharts', [key], {});\n",
              "      } catch (error) {\n",
              "        console.error('Error during call to suggestCharts:', error);\n",
              "      }\n",
              "      quickchartButtonEl.classList.remove('colab-df-spinner');\n",
              "      quickchartButtonEl.classList.add('colab-df-quickchart-complete');\n",
              "    }\n",
              "    (() => {\n",
              "      let quickchartButtonEl =\n",
              "        document.querySelector('#df-4c5fd0f3-c685-4e12-aa19-621551ceee8e button');\n",
              "      quickchartButtonEl.style.display =\n",
              "        google.colab.kernel.accessAllowed ? 'block' : 'none';\n",
              "    })();\n",
              "  </script>\n",
              "</div>\n",
              "\n",
              "    </div>\n",
              "  </div>\n"
            ],
            "application/vnd.google.colaboratory.intrinsic+json": {
              "type": "dataframe",
              "summary": "{\n  \"name\": \"pd\",\n  \"rows\": 9,\n  \"fields\": [\n    {\n      \"column\": \"intent\",\n      \"properties\": {\n        \"dtype\": \"string\",\n        \"num_unique_values\": 9,\n        \"samples\": [\n          \"track_order\",\n          \"change_order\",\n          \"payment_issue\"\n        ],\n        \"semantic_type\": \"\",\n        \"description\": \"\"\n      }\n    },\n    {\n      \"column\": \"ORDER\",\n      \"properties\": {\n        \"dtype\": \"number\",\n        \"std\": 2,\n        \"min\": 0,\n        \"max\": 5,\n        \"num_unique_values\": 2,\n        \"samples\": [\n          0,\n          5\n        ],\n        \"semantic_type\": \"\",\n        \"description\": \"\"\n      }\n    },\n    {\n      \"column\": \"PAYMENT\",\n      \"properties\": {\n        \"dtype\": \"number\",\n        \"std\": 2,\n        \"min\": 0,\n        \"max\": 5,\n        \"num_unique_values\": 2,\n        \"samples\": [\n          5,\n          0\n        ],\n        \"semantic_type\": \"\",\n        \"description\": \"\"\n      }\n    },\n    {\n      \"column\": \"REFUND\",\n      \"properties\": {\n        \"dtype\": \"number\",\n        \"std\": 2,\n        \"min\": 0,\n        \"max\": 5,\n        \"num_unique_values\": 2,\n        \"samples\": [\n          5,\n          0\n        ],\n        \"semantic_type\": \"\",\n        \"description\": \"\"\n      }\n    }\n  ]\n}"
            },
            "application/vnd.google.colaboratory.module+javascript": "\n      import \"https://ssl.gstatic.com/colaboratory/data_table/f565ec32c7e6656f/data_table.js\";\n\n      const table = window.createDataTable({\n        data: [[\"cancel_order\",\n{\n            'v': 5,\n            'f': \"5\",\n        },\n{\n            'v': 0,\n            'f': \"0\",\n        },\n{\n            'v': 0,\n            'f': \"0\",\n        }],\n [\"change_order\",\n{\n            'v': 5,\n            'f': \"5\",\n        },\n{\n            'v': 0,\n            'f': \"0\",\n        },\n{\n            'v': 0,\n            'f': \"0\",\n        }],\n [\"check_payment_methods\",\n{\n            'v': 0,\n            'f': \"0\",\n        },\n{\n            'v': 5,\n            'f': \"5\",\n        },\n{\n            'v': 0,\n            'f': \"0\",\n        }],\n [\"check_refund_policy\",\n{\n            'v': 0,\n            'f': \"0\",\n        },\n{\n            'v': 0,\n            'f': \"0\",\n        },\n{\n            'v': 5,\n            'f': \"5\",\n        }],\n [\"get_refund\",\n{\n            'v': 0,\n            'f': \"0\",\n        },\n{\n            'v': 0,\n            'f': \"0\",\n        },\n{\n            'v': 5,\n            'f': \"5\",\n        }],\n [\"payment_issue\",\n{\n            'v': 0,\n            'f': \"0\",\n        },\n{\n            'v': 5,\n            'f': \"5\",\n        },\n{\n            'v': 0,\n            'f': \"0\",\n        }],\n [\"place_order\",\n{\n            'v': 5,\n            'f': \"5\",\n        },\n{\n            'v': 0,\n            'f': \"0\",\n        },\n{\n            'v': 0,\n            'f': \"0\",\n        }],\n [\"track_order\",\n{\n            'v': 5,\n            'f': \"5\",\n        },\n{\n            'v': 0,\n            'f': \"0\",\n        },\n{\n            'v': 0,\n            'f': \"0\",\n        }],\n [\"track_refund\",\n{\n            'v': 0,\n            'f': \"0\",\n        },\n{\n            'v': 0,\n            'f': \"0\",\n        },\n{\n            'v': 5,\n            'f': \"5\",\n        }]],\n        columns: [[\"string\", \"intent\"], [\"number\", \"ORDER\"], [\"number\", \"PAYMENT\"], [\"number\", \"REFUND\"]],\n        columnOptions: [{\"width\": \"1px\", \"className\": \"index_column\"}],\n        rowsPerPage: 25,\n        helpUrl: \"https://colab.research.google.com/notebooks/data_table.ipynb\",\n        suppressOutputScrolling: true,\n        minimumWidth: undefined,\n      });\n\n      function appendQuickchartButton(parentElement) {\n        let quickchartButtonContainerElement = document.createElement('div');\n        quickchartButtonContainerElement.innerHTML = `\n<div id=\"df-6dc978f0-d225-415c-8a4c-8e58d6d020ab\">\n  <button class=\"colab-df-quickchart\" onclick=\"quickchart('df-6dc978f0-d225-415c-8a4c-8e58d6d020ab')\"\n            title=\"Suggest charts\"\n            style=\"display:none;\">\n    \n<svg xmlns=\"http://www.w3.org/2000/svg\" height=\"24px\"viewBox=\"0 0 24 24\"\n     width=\"24px\">\n    <g>\n        <path d=\"M19 3H5c-1.1 0-2 .9-2 2v14c0 1.1.9 2 2 2h14c1.1 0 2-.9 2-2V5c0-1.1-.9-2-2-2zM9 17H7v-7h2v7zm4 0h-2V7h2v10zm4 0h-2v-4h2v4z\"/>\n    </g>\n</svg>\n  </button>\n  \n<style>\n  .colab-df-quickchart {\n      --bg-color: #E8F0FE;\n      --fill-color: #1967D2;\n      --hover-bg-color: #E2EBFA;\n      --hover-fill-color: #174EA6;\n      --disabled-fill-color: #AAA;\n      --disabled-bg-color: #DDD;\n  }\n\n  [theme=dark] .colab-df-quickchart {\n      --bg-color: #3B4455;\n      --fill-color: #D2E3FC;\n      --hover-bg-color: #434B5C;\n      --hover-fill-color: #FFFFFF;\n      --disabled-bg-color: #3B4455;\n      --disabled-fill-color: #666;\n  }\n\n  .colab-df-quickchart {\n    background-color: var(--bg-color);\n    border: none;\n    border-radius: 50%;\n    cursor: pointer;\n    display: none;\n    fill: var(--fill-color);\n    height: 32px;\n    padding: 0;\n    width: 32px;\n  }\n\n  .colab-df-quickchart:hover {\n    background-color: var(--hover-bg-color);\n    box-shadow: 0 1px 2px rgba(60, 64, 67, 0.3), 0 1px 3px 1px rgba(60, 64, 67, 0.15);\n    fill: var(--button-hover-fill-color);\n  }\n\n  .colab-df-quickchart-complete:disabled,\n  .colab-df-quickchart-complete:disabled:hover {\n    background-color: var(--disabled-bg-color);\n    fill: var(--disabled-fill-color);\n    box-shadow: none;\n  }\n\n  .colab-df-spinner {\n    border: 2px solid var(--fill-color);\n    border-color: transparent;\n    border-bottom-color: var(--fill-color);\n    animation:\n      spin 1s steps(1) infinite;\n  }\n\n  @keyframes spin {\n    0% {\n      border-color: transparent;\n      border-bottom-color: var(--fill-color);\n      border-left-color: var(--fill-color);\n    }\n    20% {\n      border-color: transparent;\n      border-left-color: var(--fill-color);\n      border-top-color: var(--fill-color);\n    }\n    30% {\n      border-color: transparent;\n      border-left-color: var(--fill-color);\n      border-top-color: var(--fill-color);\n      border-right-color: var(--fill-color);\n    }\n    40% {\n      border-color: transparent;\n      border-right-color: var(--fill-color);\n      border-top-color: var(--fill-color);\n    }\n    60% {\n      border-color: transparent;\n      border-right-color: var(--fill-color);\n    }\n    80% {\n      border-color: transparent;\n      border-right-color: var(--fill-color);\n      border-bottom-color: var(--fill-color);\n    }\n    90% {\n      border-color: transparent;\n      border-bottom-color: var(--fill-color);\n    }\n  }\n</style>\n\n  <script>\n    async function quickchart(key) {\n      const quickchartButtonEl =\n        document.querySelector('#' + key + ' button');\n      quickchartButtonEl.disabled = true;  // To prevent multiple clicks.\n      quickchartButtonEl.classList.add('colab-df-spinner');\n      try {\n        const charts = await google.colab.kernel.invokeFunction(\n            'suggestCharts', [key], {});\n      } catch (error) {\n        console.error('Error during call to suggestCharts:', error);\n      }\n      quickchartButtonEl.classList.remove('colab-df-spinner');\n      quickchartButtonEl.classList.add('colab-df-quickchart-complete');\n    }\n    (() => {\n      let quickchartButtonEl =\n        document.querySelector('#df-6dc978f0-d225-415c-8a4c-8e58d6d020ab button');\n      quickchartButtonEl.style.display =\n        google.colab.kernel.accessAllowed ? 'block' : 'none';\n    })();\n  </script>\n</div>`;\n        parentElement.appendChild(quickchartButtonContainerElement);\n      }\n\n      appendQuickchartButton(table);\n    "
          },
          "metadata": {},
          "execution_count": 11
        }
      ]
    },
    {
      "cell_type": "markdown",
      "source": [
        "### **Your prompt here**\n",
        "- Feel free to do whatever you want"
      ],
      "metadata": {
        "id": "d3DxrXazhbbn"
      }
    },
    {
      "cell_type": "code",
      "source": [
        "# Fill in your prompts here\n",
        "\n",
        "prompt = \"\"\"\n",
        "\"\"\"\n",
        "system_prompt = \"\"\n",
        "prefill = \"\""
      ],
      "metadata": {
        "id": "lPa-mNw6hg8B"
      },
      "execution_count": null,
      "outputs": []
    },
    {
      "cell_type": "markdown",
      "source": [
        "### **Prediction and Evaluation**\n",
        "- Once you fill out your prompt simply run the code below"
      ],
      "metadata": {
        "id": "yVbz7gNohofR"
      }
    },
    {
      "cell_type": "code",
      "source": [
        "# if you want to test your prompt quickly use this block\n",
        "index = 0 # change this to test different data (0 - 44)\n",
        "fill_prompt = prompt.replace('{{QUERY}}', df['instruction'][index])\n",
        "response = get_response(fill_prompt, system_prompt, prefill)\n",
        "print(response)"
      ],
      "metadata": {
        "colab": {
          "base_uri": "https://localhost:8080/"
        },
        "id": "ig1SEzz5jDE0",
        "outputId": "805941a5-e6db-4156-84cc-bacc0f0e5888"
      },
      "execution_count": null,
      "outputs": [
        {
          "output_type": "stream",
          "name": "stdout",
          "text": [
            "<answer>\n",
            "<category>ORDER</category>\n",
            "<intent>cancel_order</intent>\n",
            "</answer>\n"
          ]
        }
      ]
    },
    {
      "cell_type": "code",
      "source": [
        "pause = 13 # Pause time to not exceed rate limit (5 per minute)\n",
        "\n",
        "# First we randomly shuffle the data\n",
        "shuffled_df = sampled_df.sample(frac=1, random_state=77).reset_index(drop=True)\n",
        "shuffled_df['predicted_category'] = ''\n",
        "shuffled_df['predicted_intent'] = ''\n",
        "\n",
        "# Then we generate predictions\n",
        "\n",
        "def predict(prompt, system_prompt, prefill, df, echo=True):\n",
        "  for i in range(len(df)):\n",
        "    fill_prompt = prompt.replace('{{QUERY}}', df['instruction'][i])\n",
        "    response = get_response(fill_prompt, system_prompt, prefill)\n",
        "\n",
        "    # Extract XML tags\n",
        "    content = re.search('<intent>(.*?)</intent>', response).group(1)\n",
        "    df['predicted_intent'][i] = content\n",
        "    content = re.search('<category>(.*?)</category>', response).group(1)\n",
        "    df['predicted_category'][i] = content\n",
        "\n",
        "    if echo:\n",
        "      print(\"Query:\", df['instruction'][i])\n",
        "      print(response)\n",
        "\n",
        "    time.sleep(pause) # waiting\n",
        "\n",
        "# Then we generate predictions\n",
        "predict(prompt, system_prompt, prefill, shuffled_df, echo = True)"
      ],
      "metadata": {
        "id": "prKKqz8dh-_p"
      },
      "execution_count": null,
      "outputs": []
    },
    {
      "cell_type": "code",
      "source": [
        "# Check the prediction\n",
        "shuffled_df"
      ],
      "metadata": {
        "id": "cFZOZ58BiAbE"
      },
      "execution_count": null,
      "outputs": []
    },
    {
      "cell_type": "code",
      "source": [
        "# Evaluation\n",
        "def evaluation(df):\n",
        "  acc_category =sum(df['category'] == df['predicted_category']) / len(df)\n",
        "  acc_intent = sum(df['intent'] == df['predicted_intent']) / len(df)\n",
        "  return acc_category, acc_intent\n",
        "\n",
        "acc_category, acc_intent = evaluation(shuffled_df)\n",
        "print(f\"Accuracy in predicting category: {acc_category:.2f}\")\n",
        "print(f\"Accuracy in predicting intent: {acc_intent:.2f}\")"
      ],
      "metadata": {
        "id": "IP7Nn_JwiBc6"
      },
      "execution_count": null,
      "outputs": []
    }
  ]
}