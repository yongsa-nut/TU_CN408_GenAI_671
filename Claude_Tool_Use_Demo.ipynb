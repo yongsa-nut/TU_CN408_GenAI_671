{
  "nbformat": 4,
  "nbformat_minor": 0,
  "metadata": {
    "colab": {
      "provenance": [],
      "authorship_tag": "ABX9TyPO9r/S9mDrGYcgbarvOCwX",
      "include_colab_link": true
    },
    "kernelspec": {
      "name": "python3",
      "display_name": "Python 3"
    },
    "language_info": {
      "name": "python"
    }
  },
  "cells": [
    {
      "cell_type": "markdown",
      "metadata": {
        "id": "view-in-github",
        "colab_type": "text"
      },
      "source": [
        "<a href=\"https://colab.research.google.com/github/yongsa-nut/TU_CN408_GenAI_671/blob/main/Claude_Tool_Use_Demo.ipynb\" target=\"_parent\"><img src=\"https://colab.research.google.com/assets/colab-badge.svg\" alt=\"Open In Colab\"/></a>"
      ]
    },
    {
      "cell_type": "markdown",
      "source": [
        "# Claude Tool Use Demo\n",
        "- Materials are from https://github.com/anthropics/anthropic-cookbook"
      ],
      "metadata": {
        "id": "5UAzc1D6E-KC"
      }
    },
    {
      "cell_type": "markdown",
      "source": [
        "## Google Vertex Authentication"
      ],
      "metadata": {
        "id": "HDYYkz_rFC7O"
      }
    },
    {
      "cell_type": "code",
      "execution_count": null,
      "metadata": {
        "id": "tARQpx02E60u"
      },
      "outputs": [],
      "source": [
        "!pip install -U google-cloud-aiplatform \"anthropic[vertex]\""
      ]
    },
    {
      "cell_type": "code",
      "source": [
        "!gcloud auth application-default login"
      ],
      "metadata": {
        "id": "KVozq3JHFOcf"
      },
      "execution_count": null,
      "outputs": []
    },
    {
      "cell_type": "code",
      "source": [
        "!gcloud auth application-default set-quota-project gen-ai-demo-3 # replace the last one with your project ID"
      ],
      "metadata": {
        "id": "7DiqoxYrFPOo"
      },
      "execution_count": null,
      "outputs": []
    },
    {
      "cell_type": "code",
      "source": [
        "from anthropic import AnthropicVertex\n",
        "\n",
        "project_id = \"gen-ai-demo-3\" # replace this with your project ID\n",
        "region = \"us-east5\"  # Two region for Sonnet 3.5 [\"us-east5\", \"europe-west1\"]\n",
        "\n",
        "HAIKU = \"claude-3-haiku@20240307\"\n",
        "SONNET35 = \"claude-3-5-sonnet@20240620\"\n",
        "MODEL_NAME = SONNET35\n",
        "\n",
        "client = AnthropicVertex(project_id=project_id, region=region)\n",
        "\n",
        "response = client.messages.create(\n",
        "    model=SONNET35,\n",
        "    max_tokens=100,\n",
        "    messages=[ { \"role\": \"user\", \"content\": \"Hey Claude!\"}]\n",
        ")\n",
        "print(response.content[0].text)"
      ],
      "metadata": {
        "id": "7W-7WPd8FQBn"
      },
      "execution_count": null,
      "outputs": []
    },
    {
      "cell_type": "markdown",
      "source": [
        "## Example 1: Using a Calculator Tool with Claude"
      ],
      "metadata": {
        "id": "tP0U11pCFzM-"
      }
    },
    {
      "cell_type": "markdown",
      "source": [
        "### Setup a simple calculator tool\n",
        "- We will simply create a function to do a simple arthmetic calculation.\n",
        "- This function is for demonstration only. The use of `eval` is not recommended."
      ],
      "metadata": {
        "id": "WtpacXB9F3-9"
      }
    },
    {
      "cell_type": "code",
      "source": [
        "import re\n",
        "\n",
        "def calculate(expression):\n",
        "    # Remove any non-digit or non-operator characters from the expression\n",
        "    expression = re.sub(r'[^0-9+\\-*/().]', '', expression)\n",
        "\n",
        "    try:\n",
        "        # Evaluate the expression using the built-in eval() function\n",
        "        result = eval(expression)\n",
        "        return str(result)\n",
        "    except (SyntaxError, ZeroDivisionError, NameError, TypeError, OverflowError):\n",
        "        return \"Error: Invalid expression\"\n",
        "\n",
        "tools = [\n",
        "    {\n",
        "        \"name\": \"calculator\",\n",
        "        \"description\": \"A simple calculator that performs basic arithmetic operations.\",\n",
        "        \"input_schema\": {\n",
        "            \"type\": \"object\",\n",
        "            \"properties\": {\n",
        "                \"expression\": {\n",
        "                    \"type\": \"string\",\n",
        "                    \"description\": \"The mathematical expression to evaluate (e.g., '2 + 3 * 4').\"\n",
        "                }\n",
        "            },\n",
        "            \"required\": [\"expression\"]\n",
        "        }\n",
        "    }\n",
        "]"
      ],
      "metadata": {
        "id": "pw5YCSaoF8tN"
      },
      "execution_count": 4,
      "outputs": []
    },
    {
      "cell_type": "markdown",
      "source": [
        "### Interact with Claude"
      ],
      "metadata": {
        "id": "I-5qlN5jGNOT"
      }
    },
    {
      "cell_type": "code",
      "source": [
        "# A simple function to call our calculator function/tool\n",
        "def process_tool_call(tool_name, tool_input):\n",
        "    if tool_name == \"calculator\":\n",
        "        return calculate(tool_input[\"expression\"])\n",
        "\n",
        "# A function to call claude\n",
        "def chat_with_claude(user_message, model_name=SONNET35):\n",
        "    print(f\"\\n{'='*50}\\nUser Message: {user_message}\\n{'='*50}\")\n",
        "\n",
        "    # Get the response from claude\n",
        "    message = client.messages.create(\n",
        "        model=model_name,\n",
        "        max_tokens=4096,\n",
        "        messages=[{\"role\": \"user\", \"content\": user_message}],\n",
        "        tools=tools,\n",
        "    )\n",
        "\n",
        "    print(f\"\\nInitial Response:\")\n",
        "    print(f\"Stop Reason: {message.stop_reason}\")\n",
        "    print(f\"Content: {message.content}\")\n",
        "\n",
        "    if message.stop_reason == \"tool_use\":\n",
        "        # get the first tool_use block\n",
        "        tool_use = next(block for block in message.content if block.type == \"tool_use\")\n",
        "        tool_name = tool_use.name\n",
        "        tool_input = tool_use.input\n",
        "\n",
        "        print(f\"\\nTool Used: {tool_name}\")\n",
        "        print(f\"Tool Input: {tool_input}\")\n",
        "\n",
        "        # Get the result from the tool\n",
        "        tool_result = process_tool_call(tool_name, tool_input)\n",
        "\n",
        "        print(f\"Tool Result: {tool_result}\")\n",
        "\n",
        "        # Create a new message with the tool's results\n",
        "        response = client.messages.create(\n",
        "            model=model_name,\n",
        "            max_tokens=4096,\n",
        "            messages=[\n",
        "                {\"role\": \"user\", \"content\": user_message},\n",
        "                {\"role\": \"assistant\", \"content\": message.content},\n",
        "                {\n",
        "                    \"role\": \"user\",\n",
        "                    \"content\": [\n",
        "                        {\n",
        "                            \"type\": \"tool_result\",\n",
        "                            \"tool_use_id\": tool_use.id,\n",
        "                            \"content\": tool_result,\n",
        "                        }\n",
        "                    ],\n",
        "                },\n",
        "            ],\n",
        "            tools=tools,\n",
        "        )\n",
        "    else:\n",
        "        # no tool are used\n",
        "        response = message\n",
        "\n",
        "    print(f\"\\nFinal Response: {response.content[0].text}\")\n"
      ],
      "metadata": {
        "id": "ACejObNAGRz-"
      },
      "execution_count": 13,
      "outputs": []
    },
    {
      "cell_type": "markdown",
      "source": [
        "### Let's try it out"
      ],
      "metadata": {
        "id": "kPtohxGIGqmd"
      }
    },
    {
      "cell_type": "code",
      "source": [
        "chat_with_claude(\"What is the result of 1,984,135 * 9,343,116?\")"
      ],
      "metadata": {
        "id": "StXcZtSmGshK"
      },
      "execution_count": null,
      "outputs": []
    },
    {
      "cell_type": "code",
      "source": [
        "chat_with_claude(\"Calculate (12851 - 593) * 301 + 76\")"
      ],
      "metadata": {
        "id": "yzQ5Lq-rGuRT"
      },
      "execution_count": null,
      "outputs": []
    },
    {
      "cell_type": "code",
      "source": [
        "chat_with_claude(\"What is 15910385 divided by 193053?\")"
      ],
      "metadata": {
        "id": "qL6doBtMGuEg"
      },
      "execution_count": null,
      "outputs": []
    },
    {
      "cell_type": "markdown",
      "source": [
        "## Example 2: A Customer Service Agent\n",
        "- We will create a mockup customer service agent that can look up customer information, retrieve order details, and cancel orders on behalf of the custome."
      ],
      "metadata": {
        "id": "2O7uSFraHZLt"
      }
    },
    {
      "cell_type": "markdown",
      "source": [
        "### Step1:  Simulate synthetic tool responses"
      ],
      "metadata": {
        "id": "Db3h2GpUHvAc"
      }
    },
    {
      "cell_type": "code",
      "source": [
        "def get_customer_info(customer_id):\n",
        "    # Simulated customer data\n",
        "    customers = {\n",
        "        \"C1\": {\"name\": \"John Doe\", \"email\": \"john@example.com\", \"phone\": \"123-456-7890\"},\n",
        "        \"C2\": {\"name\": \"Jane Smith\", \"email\": \"jane@example.com\", \"phone\": \"987-654-3210\"}\n",
        "    }\n",
        "    return customers.get(customer_id, \"Customer not found\")\n",
        "\n",
        "def get_order_details(order_id):\n",
        "    # Simulated order data\n",
        "    orders = {\n",
        "        \"O1\": {\"id\": \"O1\", \"product\": \"Widget A\", \"quantity\": 2, \"price\": 19.99, \"status\": \"Shipped\"},\n",
        "        \"O2\": {\"id\": \"O2\", \"product\": \"Gadget B\", \"quantity\": 1, \"price\": 49.99, \"status\": \"Processing\"}\n",
        "    }\n",
        "    return orders.get(order_id, \"Order not found\")\n",
        "\n",
        "def cancel_order(order_id):\n",
        "    # Simulated order cancellation\n",
        "    if order_id in [\"O1\", \"O2\"]:\n",
        "        return True\n",
        "    else:\n",
        "        return False"
      ],
      "metadata": {
        "id": "aEwwYME1H2_e"
      },
      "execution_count": 15,
      "outputs": []
    },
    {
      "cell_type": "markdown",
      "source": [
        "### Step 2: Define the client-side tools"
      ],
      "metadata": {
        "id": "-g6Yzw-9HoYj"
      }
    },
    {
      "cell_type": "code",
      "source": [
        "tools = [\n",
        "    {\n",
        "        \"name\": \"get_customer_info\",\n",
        "        \"description\": \"Retrieves customer information based on their customer ID. Returns the customer's name, email, and phone number.\",\n",
        "        \"input_schema\": {\n",
        "            \"type\": \"object\",\n",
        "            \"properties\": {\n",
        "                \"customer_id\": {\n",
        "                    \"type\": \"string\",\n",
        "                    \"description\": \"The unique identifier for the customer.\"\n",
        "                }\n",
        "            },\n",
        "            \"required\": [\"customer_id\"]\n",
        "        }\n",
        "    },\n",
        "    {\n",
        "        \"name\": \"get_order_details\",\n",
        "        \"description\": \"Retrieves the details of a specific order based on the order ID. Returns the order ID, product name, quantity, price, and order status.\",\n",
        "        \"input_schema\": {\n",
        "            \"type\": \"object\",\n",
        "            \"properties\": {\n",
        "                \"order_id\": {\n",
        "                    \"type\": \"string\",\n",
        "                    \"description\": \"The unique identifier for the order.\"\n",
        "                }\n",
        "            },\n",
        "            \"required\": [\"order_id\"]\n",
        "        }\n",
        "    },\n",
        "    {\n",
        "        \"name\": \"cancel_order\",\n",
        "        \"description\": \"Cancels an order based on the provided order ID. Returns a confirmation message if the cancellation is successful.\",\n",
        "        \"input_schema\": {\n",
        "            \"type\": \"object\",\n",
        "            \"properties\": {\n",
        "                \"order_id\": {\n",
        "                    \"type\": \"string\",\n",
        "                    \"description\": \"The unique identifier for the order to be cancelled.\"\n",
        "                }\n",
        "            },\n",
        "            \"required\": [\"order_id\"]\n",
        "        }\n",
        "    }\n",
        "]"
      ],
      "metadata": {
        "id": "YljvanYkHrv6"
      },
      "execution_count": 16,
      "outputs": []
    },
    {
      "cell_type": "markdown",
      "source": [
        "### Step 3: Process tool calls and return results"
      ],
      "metadata": {
        "id": "aNQemlr-H7FG"
      }
    },
    {
      "cell_type": "code",
      "source": [
        "# a function to process the tool calls made by Claude and return the appropriate results\n",
        "def process_tool_call(tool_name, tool_input):\n",
        "    if tool_name == \"get_customer_info\":\n",
        "        return get_customer_info(tool_input[\"customer_id\"])\n",
        "    elif tool_name == \"get_order_details\":\n",
        "        return get_order_details(tool_input[\"order_id\"])\n",
        "    elif tool_name == \"cancel_order\":\n",
        "        return cancel_order(tool_input[\"order_id\"])"
      ],
      "metadata": {
        "id": "R_e5j7Y1H-vX"
      },
      "execution_count": 17,
      "outputs": []
    },
    {
      "cell_type": "markdown",
      "source": [
        "### Step 4: Interact with the chatbot"
      ],
      "metadata": {
        "id": "7_QYp63-IDOk"
      }
    },
    {
      "cell_type": "code",
      "source": [
        "import json\n",
        "\n",
        "def chatbot_interaction(user_message):\n",
        "    print(f\"\\n{'='*50}\\nUser Message: {user_message}\\n{'='*50}\")\n",
        "\n",
        "    messages = [\n",
        "        {\"role\": \"user\", \"content\": user_message}\n",
        "    ]\n",
        "    # Get the initial response\n",
        "    response = client.messages.create(\n",
        "        model=MODEL_NAME,\n",
        "        max_tokens=4096,\n",
        "        tools=tools,\n",
        "        messages=messages\n",
        "    )\n",
        "\n",
        "    print(f\"\\nInitial Response:\")\n",
        "    print(f\"Stop Reason: {response.stop_reason}\")\n",
        "    print(f\"Content: {response.content}\")\n",
        "\n",
        "    while response.stop_reason == \"tool_use\":\n",
        "        tool_use = next(block for block in response.content if block.type == \"tool_use\")\n",
        "        tool_name = tool_use.name\n",
        "        tool_input = tool_use.input\n",
        "\n",
        "        print(f\"\\nTool Used: {tool_name}\")\n",
        "        print(f\"Tool Input:\")\n",
        "        print(json.dumps(tool_input, indent=2))\n",
        "\n",
        "        tool_result = process_tool_call(tool_name, tool_input)\n",
        "\n",
        "        print(f\"\\nTool Result:\")\n",
        "        print(json.dumps(tool_result, indent=2))\n",
        "\n",
        "        messages = [\n",
        "            {\"role\": \"user\", \"content\": user_message},\n",
        "            {\"role\": \"assistant\", \"content\": response.content},\n",
        "            {\n",
        "                \"role\": \"user\",\n",
        "                \"content\": [\n",
        "                    {\n",
        "                        \"type\": \"tool_result\",\n",
        "                        \"tool_use_id\": tool_use.id,\n",
        "                        \"content\": str(tool_result),\n",
        "                    }\n",
        "                ],\n",
        "            },\n",
        "        ]\n",
        "\n",
        "        response = client.messages.create(\n",
        "            model=MODEL_NAME,\n",
        "            max_tokens=4096,\n",
        "            tools=tools,\n",
        "            messages=messages\n",
        "        )\n",
        "\n",
        "        print(f\"\\nResponse:\")\n",
        "        print(f\"Stop Reason: {response.stop_reason}\")\n",
        "        print(f\"Content: {response.content}\")\n",
        "\n",
        "    final_response = next(\n",
        "        (block.text for block in response.content if hasattr(block, \"text\")),\n",
        "        None,\n",
        "    )\n",
        "\n",
        "    print(f\"\\nFinal Response: {final_response}\")\n"
      ],
      "metadata": {
        "id": "VZ4RGQaMIGUh"
      },
      "execution_count": 20,
      "outputs": []
    },
    {
      "cell_type": "markdown",
      "source": [
        "### Step 5: Test the chatbot"
      ],
      "metadata": {
        "id": "rybGuDK3IH3I"
      }
    },
    {
      "cell_type": "code",
      "source": [
        "chatbot_interaction(\"Can you tell me the email address for customer C1?\")"
      ],
      "metadata": {
        "id": "exEe1JgIIKqF"
      },
      "execution_count": null,
      "outputs": []
    },
    {
      "cell_type": "code",
      "source": [
        "chatbot_interaction(\"What is the status of order O2?\")"
      ],
      "metadata": {
        "id": "YAfqeSuAILoU"
      },
      "execution_count": null,
      "outputs": []
    },
    {
      "cell_type": "code",
      "source": [
        "chatbot_interaction(\"Please cancel order O1 for me.\")"
      ],
      "metadata": {
        "id": "q-wYqwQ8IMZ_"
      },
      "execution_count": null,
      "outputs": []
    },
    {
      "cell_type": "markdown",
      "source": [
        "## Extracting Structured JSON using Claude and Tool Use\n",
        "- You can use tool use to extracting structured JSON (instead of prompting it directly)"
      ],
      "metadata": {
        "id": "hsbUNRmGTbof"
      }
    },
    {
      "cell_type": "markdown",
      "source": [
        "### Example 1: Article Summarization\n",
        "- In this example, we'll use Claude to generate a JSON summary of an article, including fields for the author, topics, summary, coherence score, persuasion score, and a counterpoint."
      ],
      "metadata": {
        "id": "XrVMZtmjTi9J"
      }
    },
    {
      "cell_type": "code",
      "source": [
        "import requests\n",
        "from bs4 import BeautifulSoup\n",
        "import json\n",
        "tools = [\n",
        "    {\n",
        "        \"name\": \"print_summary\",\n",
        "        \"description\": \"Prints a summary of the article.\",\n",
        "        \"input_schema\": {\n",
        "            \"type\": \"object\",\n",
        "            \"properties\": {\n",
        "                \"author\": {\"type\": \"string\", \"description\": \"Name of the article author\"},\n",
        "                \"topics\": {\n",
        "                    \"type\": \"array\",\n",
        "                    \"items\": {\"type\": \"string\"},\n",
        "                    \"description\": 'Array of topics, e.g. [\"tech\", \"politics\"]. Should be as specific as possible, and can overlap.'\n",
        "                },\n",
        "                \"summary\": {\"type\": \"string\", \"description\": \"Summary of the article. One or two paragraphs max.\"},\n",
        "                \"coherence\": {\"type\": \"integer\", \"description\": \"Coherence of the article's key points, 0-100 (inclusive)\"},\n",
        "                \"persuasion\": {\"type\": \"number\", \"description\": \"Article's persuasion score, 0.0-1.0 (inclusive)\"}\n",
        "            },\n",
        "            \"required\": ['author', 'topics', 'summary', 'coherence', 'persuasion', 'counterpoint']\n",
        "        }\n",
        "    }\n",
        "]\n",
        "\n",
        "url = \"https://www.anthropic.com/news/third-party-testing\"\n",
        "response = requests.get(url)\n",
        "soup = BeautifulSoup(response.text, \"html.parser\")\n",
        "article = \" \".join([p.text for p in soup.find_all(\"p\")])\n",
        "\n",
        "query = f\"\"\"\n",
        "<article>\n",
        "{article}\n",
        "</article>\n",
        "\n",
        "Use the `print_summary` tool.\n",
        "\"\"\"\n",
        "\n",
        "response = client.messages.create(\n",
        "    model=MODEL_NAME,\n",
        "    max_tokens=4096,\n",
        "    tools=tools,\n",
        "    messages=[{\"role\": \"user\", \"content\": query}]\n",
        ")\n",
        "json_summary = None\n",
        "for content in response.content:\n",
        "    if content.type == \"tool_use\" and content.name == \"print_summary\":\n",
        "        json_summary = content.input\n",
        "        break\n",
        "\n",
        "if json_summary:\n",
        "    print(\"JSON Summary:\")\n",
        "    print(json.dumps(json_summary, indent=2))\n",
        "else:\n",
        "    print(\"No JSON summary found in the response.\")"
      ],
      "metadata": {
        "id": "n_EJ7zUOToLO"
      },
      "execution_count": null,
      "outputs": []
    },
    {
      "cell_type": "markdown",
      "source": [
        "### Example 2: Named Entity Recognition\n",
        "- In this example, we'll use Claude to perform named entity recognition on a given text and return the entities in a structured JSON format.\n",
        "\n"
      ],
      "metadata": {
        "id": "hJerAq_UT2g1"
      }
    },
    {
      "cell_type": "code",
      "source": [
        "tools = [\n",
        "    {\n",
        "        \"name\": \"print_entities\",\n",
        "        \"description\": \"Prints extract named entities.\",\n",
        "        \"input_schema\": {\n",
        "            \"type\": \"object\",\n",
        "            \"properties\": {\n",
        "                \"entities\": {\n",
        "                    \"type\": \"array\",\n",
        "                    \"items\": {\n",
        "                        \"type\": \"object\",\n",
        "                        \"properties\": {\n",
        "                            \"name\": {\"type\": \"string\", \"description\": \"The extracted entity name.\"},\n",
        "                            \"type\": {\"type\": \"string\", \"description\": \"The entity type (e.g., PERSON, ORGANIZATION, LOCATION).\"},\n",
        "                            \"context\": {\"type\": \"string\", \"description\": \"The context in which the entity appears in the text.\"}\n",
        "                        },\n",
        "                        \"required\": [\"name\", \"type\", \"context\"]\n",
        "                    }\n",
        "                }\n",
        "            },\n",
        "            \"required\": [\"entities\"]\n",
        "        }\n",
        "    }\n",
        "]\n",
        "\n",
        "text = \"John works at Google in New York. He met with Sarah, the CEO of Acme Inc., last week in San Francisco.\"\n",
        "\n",
        "query = f\"\"\"\n",
        "<document>\n",
        "{text}\n",
        "</document>\n",
        "\n",
        "Use the print_entities tool.\n",
        "\"\"\"\n",
        "\n",
        "response = client.messages.create(\n",
        "    model=MODEL_NAME,\n",
        "    max_tokens=4096,\n",
        "    tools=tools,\n",
        "    messages=[{\"role\": \"user\", \"content\": query}]\n",
        ")\n",
        "\n",
        "json_entities = None\n",
        "for content in response.content:\n",
        "    if content.type == \"tool_use\" and content.name == \"print_entities\":\n",
        "        json_entities = content.input\n",
        "        break\n",
        "\n",
        "if json_entities:\n",
        "    print(\"Extracted Entities (JSON):\")\n",
        "    print(json.dumps(json_entities, indent=2))\n",
        "else:\n",
        "    print(\"No entities found in the response.\")"
      ],
      "metadata": {
        "id": "Ikw5p-bfT5_g"
      },
      "execution_count": null,
      "outputs": []
    },
    {
      "cell_type": "markdown",
      "source": [
        "### Example 3: Sentiment Analysis\n",
        "- In this example, we'll use Claude to perform sentiment analysis on a given text and return the sentiment scores in a structured JSON format.\n",
        "\n"
      ],
      "metadata": {
        "id": "U5Ad1GWfT9Vp"
      }
    },
    {
      "cell_type": "code",
      "source": [
        "tools = [\n",
        "    {\n",
        "        \"name\": \"print_sentiment_scores\",\n",
        "        \"description\": \"Prints the sentiment scores of a given text.\",\n",
        "        \"input_schema\": {\n",
        "            \"type\": \"object\",\n",
        "            \"properties\": {\n",
        "                \"positive_score\": {\"type\": \"number\", \"description\": \"The positive sentiment score, ranging from 0.0 to 1.0.\"},\n",
        "                \"negative_score\": {\"type\": \"number\", \"description\": \"The negative sentiment score, ranging from 0.0 to 1.0.\"},\n",
        "                \"neutral_score\": {\"type\": \"number\", \"description\": \"The neutral sentiment score, ranging from 0.0 to 1.0.\"}\n",
        "            },\n",
        "            \"required\": [\"positive_score\", \"negative_score\", \"neutral_score\"]\n",
        "        }\n",
        "    }\n",
        "]\n",
        "\n",
        "text = \"The product was okay, but the customer service was terrible. I probably won't buy from them again.\"\n",
        "\n",
        "query = f\"\"\"\n",
        "<text>\n",
        "{text}\n",
        "</text>\n",
        "\n",
        "Use the print_sentiment_scores tool.\n",
        "\"\"\"\n",
        "\n",
        "response = client.messages.create(\n",
        "    model=MODEL_NAME,\n",
        "    max_tokens=4096,\n",
        "    tools=tools,\n",
        "    messages=[{\"role\": \"user\", \"content\": query}]\n",
        ")\n",
        "\n",
        "json_sentiment = None\n",
        "for content in response.content:\n",
        "    if content.type == \"tool_use\" and content.name == \"print_sentiment_scores\":\n",
        "        json_sentiment = content.input\n",
        "        break\n",
        "\n",
        "if json_sentiment:\n",
        "    print(\"Sentiment Analysis (JSON):\")\n",
        "    print(json.dumps(json_sentiment, indent=2))\n",
        "else:\n",
        "    print(\"No sentiment analysis found in the response.\")"
      ],
      "metadata": {
        "id": "vg9rcrMnT9HU"
      },
      "execution_count": null,
      "outputs": []
    },
    {
      "cell_type": "markdown",
      "source": [
        "### Example 4: Working with unknown keys\n",
        "- In some cases you may not know the exact JSON object shape up front. In this example we provide an open ended input_schema and instruct Claude via prompting how to interact with the tool.\n"
      ],
      "metadata": {
        "id": "yObZLbbmUYcc"
      }
    },
    {
      "cell_type": "code",
      "source": [
        "tools = [\n",
        "    {\n",
        "        \"name\": \"print_all_characteristics\",\n",
        "        \"description\": \"Prints all characteristics which are provided.\",\n",
        "        \"input_schema\": {\n",
        "            \"type\": \"object\",\n",
        "            \"additionalProperties\": True\n",
        "        }\n",
        "    }\n",
        "]\n",
        "\n",
        "query = f\"\"\"Given a description of a character, your task is to extract all the characteristics of the character and print them using the print_all_characteristics tool.\n",
        "\n",
        "The print_all_characteristics tool takes an arbitrary number of inputs where the key is the characteristic name and the value is the characteristic value (age: 28 or eye_color: green).\n",
        "\n",
        "<description>\n",
        "The man is tall, with a beard and a scar on his left cheek. He has a deep voice and wears a black leather jacket.\n",
        "</description>\n",
        "\n",
        "Now use the print_all_characteristics tool.\"\"\"\n",
        "\n",
        "response = client.messages.create(\n",
        "    model=MODEL_NAME,\n",
        "    max_tokens=4096,\n",
        "    tools=tools,\n",
        "    tool_choice={\"type\": \"tool\", \"name\": \"print_all_characteristics\"},\n",
        "    messages=[{\"role\": \"user\", \"content\": query}]\n",
        ")\n",
        "\n",
        "tool_output = None\n",
        "for content in response.content:\n",
        "    if content.type == \"tool_use\" and content.name == \"print_all_characteristics\":\n",
        "        tool_output = content.input\n",
        "        break\n",
        "\n",
        "if tool_output:\n",
        "    print(\"Characteristics (JSON):\")\n",
        "    print(json.dumps(tool_output, indent=2))\n",
        "else:\n",
        "    print(\"Something went wrong.\")"
      ],
      "metadata": {
        "id": "QDYijrZQUcMo"
      },
      "execution_count": null,
      "outputs": []
    },
    {
      "cell_type": "markdown",
      "source": [
        "### Example 5: Extract JSON from images"
      ],
      "metadata": {
        "id": "ghyIRwf1VN0I"
      }
    },
    {
      "cell_type": "code",
      "source": [
        "nutrition_tool = {\n",
        "    \"name\": \"print_nutrition_info\",\n",
        "    \"description\": \"Extracts nutrition information from an image of a nutrition label\",\n",
        "    \"input_schema\": {\n",
        "        \"type\": \"object\",\n",
        "        \"properties\": {\n",
        "            \"calories\": {\"type\": \"integer\", \"description\": \"The number of calories per serving\"},\n",
        "            \"total_fat\": {\"type\": \"integer\", \"description\": \"The amount of total fat in grams per serving\"},\n",
        "            \"cholesterol\": {\"type\": \"integer\", \"description\": \"The amount of cholesterol in milligrams per serving\"},\n",
        "            \"total_carbs\": {\"type\": \"integer\", \"description\": \"The amount of total carbohydrates in grams per serving\"},\n",
        "            \"protein\": {\"type\": \"integer\", \"description\": \"The amount of protein in grams per serving\"}\n",
        "        },\n",
        "        \"required\": [\"calories\", \"total_fat\", \"cholesterol\", \"total_carbs\", \"protein\"]\n",
        "    }\n",
        "}"
      ],
      "metadata": {
        "id": "3OYHEy30V0VS"
      },
      "execution_count": 28,
      "outputs": []
    },
    {
      "cell_type": "code",
      "source": [
        "!wget https://raw.githubusercontent.com/anthropics/anthropic-cookbook/main/images/tool_use/nutrition_label.png"
      ],
      "metadata": {
        "id": "od8joDCvWTTs"
      },
      "execution_count": null,
      "outputs": []
    },
    {
      "cell_type": "code",
      "source": [
        "from IPython.display import Image\n",
        "import base64\n",
        "\n",
        "Image(filename='/content/nutrition_label.png')"
      ],
      "metadata": {
        "id": "VWtJn07ZWXJJ"
      },
      "execution_count": null,
      "outputs": []
    },
    {
      "cell_type": "code",
      "source": [
        "def get_base64_encoded_image(image_path):\n",
        "    with open(image_path, \"rb\") as image_file:\n",
        "        binary_data = image_file.read()\n",
        "        base_64_encoded_data = base64.b64encode(binary_data)\n",
        "        base64_string = base_64_encoded_data.decode('utf-8')\n",
        "        return base64_string\n",
        "\n",
        "message_list = [\n",
        "    {\n",
        "        \"role\": \"user\",\n",
        "        \"content\": [\n",
        "            {\"type\": \"image\",\n",
        "             \"source\": {\"type\": \"base64\", \"media_type\": \"image/png\",\n",
        "                        \"data\": get_base64_encoded_image(\"/content/nutrition_label.png\")}},\n",
        "            {\"type\": \"text\",\n",
        "             \"text\": \"Please print the nutrition information from this nutrition label image.\"}\n",
        "        ]\n",
        "    }\n",
        "]\n",
        "\n",
        "response = client.messages.create(\n",
        "    model=MODEL_NAME,\n",
        "    max_tokens=4096,\n",
        "    messages=message_list,\n",
        "    tools=[nutrition_tool]\n",
        ")\n",
        "\n",
        "if response.stop_reason == \"tool_use\":\n",
        "    last_content_block = response.content[-1]\n",
        "    if last_content_block.type == 'tool_use':\n",
        "        tool_name = last_content_block.name\n",
        "        tool_inputs = last_content_block.input\n",
        "        print(f\"=======Claude Wants To Call The {tool_name} Tool=======\")\n",
        "        print(tool_inputs)\n",
        "\n",
        "else:\n",
        "    print(\"No tool was called. This shouldn't happen!\")"
      ],
      "metadata": {
        "id": "dm250i7dWlnE"
      },
      "execution_count": null,
      "outputs": []
    },
    {
      "cell_type": "markdown",
      "source": [
        "## Tool Choice\n",
        "\n",
        "When working with the `tool_choice` parameter, we have three possible options:\n",
        "\n",
        "- `auto` allows Claude to decide whether to call any provided tools or not\n",
        "- `tool` allows us to force Claude to always use a particular tool\n",
        "- `any` tells Claude that it must use one of the provided tools, but doesn't force a particular tool\n",
        "Let's take a look at each option in detail. We'll start by importing the Anthropic SDK:"
      ],
      "metadata": {
        "id": "SsaO_1ADWnA_"
      }
    },
    {
      "cell_type": "markdown",
      "source": [
        "### Auto\n",
        "- Setting tool_choice to `auto` allows the model to automatically decide whether to use tools or not. This is the default behavior when working with tools."
      ],
      "metadata": {
        "id": "tgdh14bLXFkb"
      }
    },
    {
      "cell_type": "markdown",
      "source": [
        "- Let's start by defining a tool called `web_search`. Please note, to keep this demo simple, we're not actually searching the web here:"
      ],
      "metadata": {
        "id": "XXc_atBkXdaD"
      }
    },
    {
      "cell_type": "code",
      "source": [
        "def web_search(topic):\n",
        "    print(f\"pretending to search the web for {topic}\")\n",
        "\n",
        "web_search_tool = {\n",
        "    \"name\": \"web_search\",\n",
        "    \"description\": \"A tool to retrieve up to date information on a given topic by searching the web\",\n",
        "    \"input_schema\": {\n",
        "        \"type\": \"object\",\n",
        "        \"properties\": {\n",
        "            \"topic\": {\n",
        "                \"type\": \"string\",\n",
        "                \"description\": \"The topic to search the web for\"\n",
        "            },\n",
        "        },\n",
        "        \"required\": [\"topic\"]\n",
        "    }\n",
        "}"
      ],
      "metadata": {
        "id": "tSdXekcsXg2J"
      },
      "execution_count": 37,
      "outputs": []
    },
    {
      "cell_type": "markdown",
      "source": [
        "Next, we write a function that accepts a `user_query` and passes it along to Claude, along with the `web_search_tool`.\n",
        "\n",
        "We also set `tool_choice` to `auto`:\n",
        "\n",
        "```python\n",
        "tool_choice={\"type\": \"auto\"}\n",
        "```\n",
        "\n",
        "Here's the complete function:"
      ],
      "metadata": {
        "id": "t9r2eiViXkgf"
      }
    },
    {
      "cell_type": "code",
      "source": [
        "from datetime import date\n",
        "\n",
        "def chat_with_web_search(user_query):\n",
        "    messages = [{\"role\": \"user\", \"content\": user_query}]\n",
        "\n",
        "    system_prompt=f\"\"\"\n",
        "    Answer as many questions as you can using your existing knowledge.\n",
        "    Only search the web for queries that you can not confidently answer.\n",
        "    Today's date is {date.today().strftime(\"%B %d %Y\")}\n",
        "    If you think a user's question involves something in the future that hasn't happened yet, use the search tool.\n",
        "    \"\"\"\n",
        "\n",
        "    response = client.messages.create(\n",
        "        system=system_prompt,\n",
        "        model=MODEL_NAME,\n",
        "        messages=messages,\n",
        "        max_tokens=1000,\n",
        "        tool_choice={\"type\": \"auto\"},\n",
        "        tools=[web_search_tool]\n",
        "    )\n",
        "    last_content_block = response.content[-1]\n",
        "    if last_content_block.type == \"text\":\n",
        "        print(\"Claude did NOT call a tool\")\n",
        "        print(f\"Assistant: {last_content_block.text}\")\n",
        "    elif last_content_block.type == \"tool_use\":\n",
        "        print(\"Claude wants to use a tool\")\n",
        "        print(last_content_block)"
      ],
      "metadata": {
        "id": "hluo12j_Xkun"
      },
      "execution_count": 38,
      "outputs": []
    },
    {
      "cell_type": "markdown",
      "source": [
        "- Let's test it out."
      ],
      "metadata": {
        "id": "vmlES3eeXyAw"
      }
    },
    {
      "cell_type": "code",
      "source": [
        "chat_with_web_search(\"What color is the sky?\")"
      ],
      "metadata": {
        "id": "SvL774-pXz-O"
      },
      "execution_count": null,
      "outputs": []
    },
    {
      "cell_type": "code",
      "source": [
        "chat_with_web_search(\"Who won the 2024 Miami Grand Prix?\")"
      ],
      "metadata": {
        "id": "biRB_QnJX0vz"
      },
      "execution_count": null,
      "outputs": []
    },
    {
      "cell_type": "code",
      "source": [
        "# Claude should NOT need to use the tool for this:\n",
        "chat_with_web_search(\"Who won the superbowl in 2022?\")"
      ],
      "metadata": {
        "id": "i6zICdkmX2_9"
      },
      "execution_count": null,
      "outputs": []
    },
    {
      "cell_type": "code",
      "source": [
        "# Claude SHOULD use the tool for this:\n",
        "chat_with_web_search(\"Who won the superbowl in 2024?\")"
      ],
      "metadata": {
        "id": "a90OeqGfX4GE"
      },
      "execution_count": null,
      "outputs": []
    },
    {
      "cell_type": "markdown",
      "source": [
        "### Tool\n",
        "- We can force Claude to use a particular tool using `tool_choice`. In the example below, we've defined two simple tools:"
      ],
      "metadata": {
        "id": "Sbnk9WSOXG9n"
      }
    },
    {
      "cell_type": "code",
      "source": [
        "tools = [\n",
        "    {\n",
        "        \"name\": \"print_sentiment_scores\",\n",
        "        \"description\": \"Prints the sentiment scores of a given tweet or piece of text.\",\n",
        "        \"input_schema\": {\n",
        "            \"type\": \"object\",\n",
        "            \"properties\": {\n",
        "                \"positive_score\": {\"type\": \"number\", \"description\": \"The positive sentiment score, ranging from 0.0 to 1.0.\"},\n",
        "                \"negative_score\": {\"type\": \"number\", \"description\": \"The negative sentiment score, ranging from 0.0 to 1.0.\"},\n",
        "                \"neutral_score\": {\"type\": \"number\", \"description\": \"The neutral sentiment score, ranging from 0.0 to 1.0.\"}\n",
        "            },\n",
        "            \"required\": [\"positive_score\", \"negative_score\", \"neutral_score\"]\n",
        "        }\n",
        "    },\n",
        "    {\n",
        "        \"name\": \"calculator\",\n",
        "        \"description\": \"Adds two number\",\n",
        "        \"input_schema\": {\n",
        "            \"type\": \"object\",\n",
        "            \"properties\": {\n",
        "                \"num1\": {\"type\": \"number\", \"description\": \"first number to add\"},\n",
        "                \"num2\": {\"type\": \"number\", \"description\": \"second number to add\"},\n",
        "            },\n",
        "            \"required\": [\"num1\", \"num2\"]\n",
        "        }\n",
        "    }\n",
        "]"
      ],
      "metadata": {
        "id": "pc-Tx3-aYCiP"
      },
      "execution_count": 43,
      "outputs": []
    },
    {
      "cell_type": "markdown",
      "source": [
        "#### Testing `auto`\n",
        "In this first \"bad\" version of the `analyze_tweet_sentiment` function, we provide Claude with both tools. For the sake of comparison, we'll start by setting tool_choice to \"auto\":\n",
        "\n",
        "```python\n",
        "tool_choice={\"type\": \"auto\"}\n",
        "```\n",
        "\n",
        "Please note that we are deliberately not providing Claude with a well-written prompt, to make it easier to see the impact of forcing the use of a particular tool."
      ],
      "metadata": {
        "id": "JH-YjQkmZ5AX"
      }
    },
    {
      "cell_type": "code",
      "source": [
        "def analyze_tweet_sentiment(query):\n",
        "    response = client.messages.create(\n",
        "        model=MODEL_NAME,\n",
        "        max_tokens=4096,\n",
        "        tools=tools,\n",
        "        tool_choice={\"type\": \"auto\"},\n",
        "        messages=[{\"role\": \"user\", \"content\": query}]\n",
        "    )\n",
        "    print(response)"
      ],
      "metadata": {
        "id": "l6vMhGuYZi1v"
      },
      "execution_count": 62,
      "outputs": []
    },
    {
      "cell_type": "markdown",
      "source": [
        "Let's see what happens when we call the function with the tweet \"Holy cow, I just made the most incredible meal!\""
      ],
      "metadata": {
        "id": "qf0V3-PEaCjz"
      }
    },
    {
      "cell_type": "code",
      "source": [
        "analyze_tweet_sentiment(\"Holy cow, I just made the most incredible meal!\")"
      ],
      "metadata": {
        "colab": {
          "base_uri": "https://localhost:8080/"
        },
        "id": "H874_bW6aBVu",
        "outputId": "26b48000-c09f-4c8f-ab3c-18606bc55ced"
      },
      "execution_count": 63,
      "outputs": [
        {
          "output_type": "stream",
          "name": "stdout",
          "text": [
            "Message(id='msg_vrtx_01VaAMu5uRpAYNXqFE7kw38L', content=[TextBlock(text=\"That's wonderful! I'm so glad to hear you had such a great culinary experience. It sounds like you're feeling quite excited and positive about your meal. \\n\\nWhile I don't have specific details about your meal, I can certainly analyze the sentiment of your statement. Would you like me to use a sentiment analysis tool to quantify the positivity in your exclamation? This could give us a more precise measure of the enthusiasm in your words.\", type='text')], model='claude-3-5-sonnet-20240620', role='assistant', stop_reason='end_turn', stop_sequence=None, type='message', usage=Usage(input_tokens=564, output_tokens=96))\n"
          ]
        }
      ]
    },
    {
      "cell_type": "markdown",
      "source": [
        "Next, let's imagine someone tweets this: \"I love my cats! I had four and just adopted 2 more! Guess how many I have now?\""
      ],
      "metadata": {
        "id": "CfKW8OZxaFEJ"
      }
    },
    {
      "cell_type": "code",
      "source": [
        "analyze_tweet_sentiment(\"I love my cats! I had four and just adopted 2 more! Guess how many I have now?\")"
      ],
      "metadata": {
        "id": "l0ROfOMBaGiA"
      },
      "execution_count": null,
      "outputs": []
    },
    {
      "cell_type": "markdown",
      "source": [
        "#### Testing `tool`\n",
        "\n",
        "Next, let's force Claude to always use the `print_sentiment_scores` tool by updating `tool_choice`:\n",
        "```python\n",
        "tool_choice={\"type\": \"tool\", \"name\": \"print_sentiment_scores\"}\n",
        "```\n",
        "In addition to setting `type` to `tool`, we must provide a particular tool name."
      ],
      "metadata": {
        "id": "L351bq2OaH9w"
      }
    },
    {
      "cell_type": "code",
      "source": [
        "def analyze_tweet_sentiment(query):\n",
        "    response = client.messages.create(\n",
        "        model=MODEL_NAME,\n",
        "        max_tokens=4096,\n",
        "        tools=tools,\n",
        "        tool_choice={\"type\": \"tool\", \"name\": \"print_sentiment_scores\"},\n",
        "        messages=[{\"role\": \"user\", \"content\": query}]\n",
        "    )\n",
        "    print(response) #response.content[0].input"
      ],
      "metadata": {
        "id": "gOd4XnKwad60"
      },
      "execution_count": 58,
      "outputs": []
    },
    {
      "cell_type": "markdown",
      "source": [
        "Now let's repeat the experiment again."
      ],
      "metadata": {
        "id": "KaFe8XZDauA6"
      }
    },
    {
      "cell_type": "code",
      "source": [
        "analyze_tweet_sentiment(\"Holy cow, I just made the most incredible meal!\")"
      ],
      "metadata": {
        "colab": {
          "base_uri": "https://localhost:8080/"
        },
        "id": "F-4Xu_xzatij",
        "outputId": "01ec8cc6-f652-44d7-a253-9987c24f0b7d"
      },
      "execution_count": 59,
      "outputs": [
        {
          "output_type": "stream",
          "name": "stdout",
          "text": [
            "{'positive_score': 0.9, 'negative_score': 0.0, 'neutral_score': 0.1}\n"
          ]
        }
      ]
    },
    {
      "cell_type": "code",
      "source": [
        "analyze_tweet_sentiment(\"I love my cats! I had four and just adopted 2 more! Guess how many I have now?\")"
      ],
      "metadata": {
        "colab": {
          "base_uri": "https://localhost:8080/"
        },
        "id": "uPaUFjLSayfd",
        "outputId": "f5520e1d-7afa-42fa-d3a3-9e1e58bc0d37"
      },
      "execution_count": 60,
      "outputs": [
        {
          "output_type": "stream",
          "name": "stdout",
          "text": [
            "{'positive_score': 0.8, 'negative_score': 0.0, 'neutral_score': 0.2}\n"
          ]
        }
      ]
    },
    {
      "cell_type": "markdown",
      "source": [
        "Even though we're forcing Claude to call our `print_sentiment_scores` tool, we should still employ some basic prompt engineering:"
      ],
      "metadata": {
        "id": "tritnevSa1-1"
      }
    },
    {
      "cell_type": "code",
      "source": [
        "def analyze_tweet_sentiment(query):\n",
        "\n",
        "    prompt = f\"\"\"\n",
        "    Analyze the sentiment in the following tweet:\n",
        "    <tweet>{query}</tweet>\n",
        "    \"\"\"\n",
        "\n",
        "    response = client.messages.create(\n",
        "        model=MODEL_NAME,\n",
        "        max_tokens=4096,\n",
        "        tools=tools,\n",
        "        tool_choice={\"type\": \"auto\"},\n",
        "        messages=[{\"role\": \"user\", \"content\": prompt}]\n",
        "    )\n",
        "    print(response)"
      ],
      "metadata": {
        "id": "ZwINJWCXa4Xy"
      },
      "execution_count": null,
      "outputs": []
    },
    {
      "cell_type": "markdown",
      "source": [
        "### Any\n",
        "\n",
        "The final option for `tool_choice` is `any` which allows us to tell Claude \"you must call a tool, but you can pick which one\". Imagine we want to create a SMS chatbot using Claude. The only way for this chatbot to actually \"communicate\" with a user is via SMS text message.\n",
        "\n",
        "In the example below, we make a very simple text-messaging assistant that has access to two tools:\n",
        "\n",
        "- `send_text_to_user` sends a text message to a user\n",
        "- `get_customer_info` looks up customer data based on a username\n",
        "\n",
        "The idea is to create a chatbot that always calls one of these tools and never responds with a non-tool response. In all situations, Claude should either respond back by trying to send a text message or calling `get_customer_info` to get more customer information.\n",
        "\n",
        "Most importantly, we set `tool_choice` to \"any\":\n",
        "\n",
        "```python\n",
        "tool_choice={\"type\": \"any\"}\n",
        "```"
      ],
      "metadata": {
        "id": "oRVMPWJLXJuR"
      }
    },
    {
      "cell_type": "code",
      "source": [
        "def send_text_to_user(text):\n",
        "    # Sends a text to the user\n",
        "    # We'll just print out the text to keep things simple:\n",
        "    print(f\"TEXT MESSAGE SENT: {text}\")\n",
        "\n",
        "def get_customer_info(username):\n",
        "    return {\n",
        "        \"username\": username,\n",
        "        \"email\": f\"{username}@email.com\",\n",
        "        \"purchases\": [\n",
        "            {\"id\": 1, \"product\": \"computer mouse\"},\n",
        "            {\"id\": 2, \"product\": \"screen protector\"},\n",
        "            {\"id\": 3, \"product\": \"usb charging cable\"},\n",
        "        ]\n",
        "    }\n",
        "\n",
        "tools = [\n",
        "    {\n",
        "        \"name\": \"send_text_to_user\",\n",
        "        \"description\": \"Sends a text message to a user\",\n",
        "        \"input_schema\": {\n",
        "            \"type\": \"object\",\n",
        "            \"properties\": {\n",
        "                \"text\": {\"type\": \"string\", \"description\": \"The piece of text to be sent to the user via text message\"},\n",
        "            },\n",
        "            \"required\": [\"text\"]\n",
        "        }\n",
        "    },\n",
        "    {\n",
        "        \"name\": \"get_customer_info\",\n",
        "        \"description\": (\"gets information on a customer based on the customer's username. \"+\n",
        "                        \"Response includes email, username, and previous purchases. \"+\n",
        "                        \"Only call this tool once a user has provided you with their username\"),\n",
        "        \"input_schema\": {\n",
        "            \"type\": \"object\",\n",
        "            \"properties\": {\n",
        "                \"username\": {\"type\": \"string\", \"description\": \"The username of the user in question. \"},\n",
        "            },\n",
        "            \"required\": [\"username\"]\n",
        "        }\n",
        "    },\n",
        "]\n",
        "\n",
        "system_prompt = \"\"\"\n",
        "All your communication with a user is done via text message.\n",
        "Only call tools when you have enough information to accurately call them.\n",
        "Do not call the get_customer_info tool until a user has provided you with their username. This is important.\n",
        "If you do not know a user's username, simply ask a user for their username.\n",
        "\"\"\"\n",
        "\n",
        "def sms_chatbot(user_message):\n",
        "    messages = [{\"role\": \"user\", \"content\":user_message}]\n",
        "\n",
        "    response = client.messages.create(\n",
        "        system=system_prompt,\n",
        "        model=MODEL_NAME,\n",
        "        max_tokens=4096,\n",
        "        tools=tools,\n",
        "        tool_choice={\"type\": \"any\"},\n",
        "        messages=messages\n",
        "    )\n",
        "    if response.stop_reason == \"tool_use\":\n",
        "        last_content_block = response.content[-1]\n",
        "        if last_content_block.type == 'tool_use':\n",
        "            tool_name = last_content_block.name\n",
        "            tool_inputs = last_content_block.input\n",
        "            print(f\"=======Claude Wants To Call The {tool_name} Tool=======\")\n",
        "            if tool_name == \"send_text_to_user\":\n",
        "                send_text_to_user(tool_inputs[\"text\"])\n",
        "            elif tool_name == \"get_customer_info\":\n",
        "                print(get_customer_info(tool_inputs[\"username\"]))\n",
        "            else:\n",
        "                print(\"Oh dear, that tool doesn't exist!\")\n",
        "\n",
        "    else:\n",
        "        print(\"No tool was called. This shouldn't happen!\")"
      ],
      "metadata": {
        "id": "UkNy_89qa7Xj"
      },
      "execution_count": 64,
      "outputs": []
    },
    {
      "cell_type": "markdown",
      "source": [
        "#### Testing Any\n",
        "- Let's start simple:"
      ],
      "metadata": {
        "id": "K1e_CPj5bArK"
      }
    },
    {
      "cell_type": "code",
      "source": [
        "sms_chatbot(\"Hey there! How are you?\")"
      ],
      "metadata": {
        "id": "t9BRNw6ca8jp"
      },
      "execution_count": null,
      "outputs": []
    },
    {
      "cell_type": "markdown",
      "source": [
        "- Next, we'll ask Claude something a bit trickier:"
      ],
      "metadata": {
        "id": "2w33v7ZFbFt4"
      }
    },
    {
      "cell_type": "code",
      "source": [
        "sms_chatbot(\"I need help looking up an order\")"
      ],
      "metadata": {
        "id": "Dayz1cGQa92W"
      },
      "execution_count": null,
      "outputs": []
    },
    {
      "cell_type": "markdown",
      "source": [
        "- Now, let's see what happens when we provide Claude with our username:\n",
        "\n"
      ],
      "metadata": {
        "id": "_-o4CemMbHOu"
      }
    },
    {
      "cell_type": "code",
      "source": [
        "sms_chatbot(\"I need help looking up an order.  My username is jenny76\")"
      ],
      "metadata": {
        "id": "qmNXh_zha-6Z"
      },
      "execution_count": null,
      "outputs": []
    },
    {
      "cell_type": "markdown",
      "source": [
        "- Even if we send Claude a gibberish message, it will still call one of our tools:"
      ],
      "metadata": {
        "id": "U2mN3f1BbJ0G"
      }
    },
    {
      "cell_type": "code",
      "source": [
        "sms_chatbot(\"askdj aksjdh asjkdbhas kjdhas 1+1 ajsdh\")"
      ],
      "metadata": {
        "id": "1hdrAYx8bADO"
      },
      "execution_count": null,
      "outputs": []
    }
  ]
}